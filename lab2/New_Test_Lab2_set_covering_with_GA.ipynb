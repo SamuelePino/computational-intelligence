{
  "cells": [
    {
      "cell_type": "code",
      "execution_count": 20,
      "metadata": {
        "id": "hs3eC58mR_Zd"
      },
      "outputs": [],
      "source": [
        "#@title Imports\n",
        "import logging\n",
        "import random\n",
        "from copy import copy\n",
        "\n",
        "import random\n",
        "import platform\n",
        "from collections import Counter\n",
        "from collections import namedtuple\n",
        "#from gx_utils import *"
      ]
    },
    {
      "cell_type": "code",
      "execution_count": 21,
      "metadata": {
        "id": "NVwfF8TsQR5s"
      },
      "outputs": [],
      "source": [
        "#@title Problem instances generator\n",
        "\n",
        "def problem(N, seed=None):\n",
        "    \"\"\"Creates an instance of the problem\"\"\"\n",
        "\n",
        "    random.seed(seed)\n",
        "    return [\n",
        "        list(set(random.randint(0, N - 1) for n in range(random.randint(N // 5, N // 2))))\n",
        "        for n in range(random.randint(N, N * 5))\n",
        "    ]"
      ]
    },
    {
      "cell_type": "code",
      "execution_count": 22,
      "metadata": {
        "id": "IwHkKJdkSzq7"
      },
      "outputs": [],
      "source": [
        "#@title Some Functions for Preprocessing\n",
        "from traitlets.traitlets import Callable\n",
        "import itertools\n",
        "\n",
        "def remove_duplicates(list_):\n",
        "  list_ = list(k for k,_ in itertools.groupby(list_))\n",
        "\n",
        "  return list_\n",
        "\n",
        "def sort_by(list_: list, key: Callable = None):\n",
        "  list_.sort(key=key)\n",
        "  return list_\n",
        "  \n",
        "def preproc(problem, rem_dup=False, sort=False, f:Callable = None):\n",
        "  problem= sort_by(problem, key=f)\n",
        "  problem= remove_duplicates(problem)\n",
        "\n",
        "  #Make problem a list of sets, each inner list is now a set\n",
        "  problem= list( set(problem[i]) for i in range(0,len(problem)))\n",
        "  return problem\n",
        "\n"
      ]
    },
    {
      "cell_type": "code",
      "execution_count": 23,
      "metadata": {
        "id": "GM6_yFbFSpRD"
      },
      "outputs": [
        {
          "data": {
            "text/plain": [
              "428"
            ]
          },
          "execution_count": 23,
          "metadata": {},
          "output_type": "execute_result"
        }
      ],
      "source": [
        "#@title Problem init & PreProcessing\n",
        "\n",
        "N = 100\n",
        "\n",
        "prob_raw = problem(N, seed=42)\n",
        "prob = preproc(prob_raw, sort=True, f=lambda x: -len(x))\n",
        "\n",
        "\n",
        "#For each index of the main list problme, we link a set composed by the numbers the set covers\n",
        "coverage_table = {}  #Something like {2: {1,3,4,8}}\n",
        "\n",
        "for i, set_ith in enumerate(prob):\n",
        "    coverage_table[i] = set_ith\n",
        "\n",
        "prob_dim = len(prob)\n",
        "\n",
        "NULL_SET_INDEX = prob_dim\n",
        "\n",
        "#the last index is a null set, which stands for \"No list taken\"\n",
        "coverage_table[NULL_SET_INDEX] = set()\n",
        "\n",
        "prob.append(set())\n",
        "prob[NULL_SET_INDEX]\n",
        "\n",
        "#Update the problem dim after inserting the last element for the NULL SET\n",
        "prob_dim = len(prob)\n",
        "\n",
        "prob_dim"
      ]
    },
    {
      "cell_type": "code",
      "execution_count": 24,
      "metadata": {},
      "outputs": [],
      "source": [
        "def covered_by(genome) -> bool:\n",
        "    \"compute the coverage for a given genome\"\n",
        "\n",
        "    coverage = set()\n",
        "    for index in genome:\n",
        "        coverage |= prob[index]\n",
        "        if coverage == set(range(0,N)):\n",
        "            return True\n",
        "    return False\n",
        "\n",
        "\n",
        "#@TODO: Try more efficient or smart FF\n",
        "#You can change this to try different fitness function (FF)\n",
        "def fitness_function(genome):\n",
        "    \"\"\"\n",
        "    Compute the fitness value for a given genome.\n",
        "\n",
        "    Returns the count of integers present in the ind's genome\n",
        "\n",
        "    If the genome leads to an unacceptable solution, its value will be MIN= -1000_000\n",
        "    \"\"\"\n",
        "\n",
        "    if covered_by(genome): \n",
        "        return -sum( len(coverage_table[index]) for index in genome)\n",
        "\n",
        "    return -100000"
      ]
    },
    {
      "cell_type": "code",
      "execution_count": 25,
      "metadata": {},
      "outputs": [],
      "source": [
        "#@title Individual Dataclass Def\n",
        "\n",
        "from dataclasses import dataclass, replace\n",
        "\n",
        "@dataclass\n",
        "class Individual:\n",
        "    \"\"\"Class for keeping track of an ind.\"\"\"\n",
        "    genome: list()\n",
        "    fitness: int = None\n",
        "\n",
        "    def evaluate(self):\n",
        "        \"\"\"\n",
        "        This function is mainly used as a wrap function, to let us change only the FF and leave the rest\n",
        "        of the code untouched, using 'evaluate'. It also helps for readability\n",
        "        \"\"\"\n",
        "\n",
        "        self.fitness = fitness_function(self.genome)"
      ]
    },
    {
      "cell_type": "code",
      "execution_count": 26,
      "metadata": {},
      "outputs": [
        {
          "name": "stdout",
          "output_type": "stream",
          "text": [
            "Individual(genome=[1, 8, 73, 43, 23, 98, 6, 3, 233, 235, 92, 67, 103], fitness=-123)\n"
          ]
        },
        {
          "data": {
            "text/plain": [
              "Individual(genome=[1, 8, 73, 43, 23, 98, 6, 3, 233, 235, 92, 67, 103], fitness=-100000)"
            ]
          },
          "execution_count": 26,
          "metadata": {},
          "output_type": "execute_result"
        }
      ],
      "source": [
        "i = Individual([1,8,73,43,23,98,6, 3,233, 235, 92, 67,103], -123)\n",
        "print(i)\n",
        "i = replace(i, fitness = 3)\n",
        "i.evaluate()\n",
        "i"
      ]
    },
    {
      "cell_type": "code",
      "execution_count": 33,
      "metadata": {
        "id": "ES5JPjDlY5LR"
      },
      "outputs": [],
      "source": [
        "#@title Class & Function Definitions for GA\n",
        "\n",
        "from math import log \n",
        "\n",
        "#can be use to define GENOME_LENGTH as a function of N\n",
        "\n",
        "DEAFULT_GENOME_LENGHT = 11\n",
        "#A CRITICAL PARAMETER\n",
        "#used to define a maximum of lists taken as a solution\n",
        "#Small values can lead to unacceptable solutions, while Big \n",
        "#values lead to a huge amount of possibilities for the individuals \n",
        "#and then to a really slow converge towards a minimum\n",
        "GENOME_LENGTH = DEAFULT_GENOME_LENGHT\n",
        "\n",
        "#function used to sort the inds, and selecting the \"best\" part of them\n",
        "sorting_key= lambda x: (x.fitness)\n",
        "\n",
        "#\"Class\" definition:\n",
        "# genome and fitness attributes are both implemented as list, in order to\n",
        "# access them and mutate them internally, in respect of tuple Immutability\n",
        "#Individual = namedtuple(\"Individual\", [\"genome\", \"fitness\"])\n",
        "\n",
        "def mutate(ind: Individual, prob=0.1):\n",
        "    \"\"\"\n",
        "    With a given probability 'prob' it mutates the given ind\n",
        "    \"\"\"\n",
        "\n",
        "    # Due to the implementation of the NULL SET this function is\n",
        "    # a bit more complex than it should be; we want that the NULL SET\n",
        "    # may be added again even if it's already present in the genome.\n",
        "    # The same thing is instead unacceptable for other genes (non-null lists)\n",
        "    if random.random() < prob:\n",
        "        k = random.randint(0, prob_dim-1)\n",
        "\n",
        "        #If k is NULL_SET_INDEX it can be repeated in the genome\n",
        "        if k == NULL_SET_INDEX:\n",
        "            #Select a random gene\n",
        "            j = random.randint(0, GENOME_LENGTH-1)\n",
        "\n",
        "            #And change it\n",
        "            ind.genome.pop(j)\n",
        "            ind.genome.append(k)\n",
        "        #If k is not NULL_SET_INDEX it cannot be repeated\n",
        "        else:\n",
        "\n",
        "            #So we check its presence in the genome...\n",
        "            if k not in ind.genome:\n",
        "                     #Select a random gene\n",
        "                    j = random.randint(0, GENOME_LENGTH-1)\n",
        "\n",
        "                    #And change it\n",
        "                    ind.genome.pop(j)\n",
        "                    ind.genome.append(k)\n",
        "\n",
        "def random_new_individual():\n",
        "  \"\"\"\n",
        "  This function create a random Individual object.\n",
        "  \"\"\"\n",
        "\n",
        "  genome = list()\n",
        "\n",
        "  local_prob = prob.copy()\n",
        "\n",
        "  for _ in range(0, GENOME_LENGTH):\n",
        "\n",
        "      index_pool= list(range(0,len(local_prob)))\n",
        "      index_pool.append(NULL_SET_INDEX)\n",
        "      #Extract a random list\n",
        "      j = random.choice(index_pool)\n",
        "\n",
        "      if j == NULL_SET_INDEX:\n",
        "          #No pop required\n",
        "          set_ith = set()\n",
        "      else:\n",
        "        index_pool.remove(j)\n",
        "        set_ith = local_prob.pop(j)\n",
        "\n",
        "      #Add it to the genome and to the coverage set\n",
        "      genome.append(j)\n",
        "\n",
        "  ind = Individual(genome, 0)\n",
        "  ind.evaluate()\n",
        "  return ind\n",
        "\n",
        "def mate(i1: Individual, i2: Individual, prob_mut=0.1) -> Individual:\n",
        "  \"\"\"\n",
        "  Take two inds, randomly cut their genome and then create a new ind with \n",
        "  the genome create by the union of the two parts, properly\n",
        "  \"\"\"\n",
        "\n",
        "\n",
        "  #cut_index = random.randint(0,len_genome)\n",
        "\n",
        "  cut_index = random.randint( int( GENOME_LENGTH/3), int(2*GENOME_LENGTH/3) )\n",
        "  new_genome = []\n",
        "  new_genome[0:cut_index] = i1.genome[0:cut_index]\n",
        "  new_genome[cut_index:] = i2.genome[cut_index:]\n",
        "  ind = Individual(new_genome,0)\n",
        "  mutate(ind, prob_mut)\n",
        "  ind.evaluate()\n",
        "  return ind\n"
      ]
    },
    {
      "cell_type": "code",
      "execution_count": 34,
      "metadata": {
        "cellView": "form",
        "id": "IeURpRbydBdM"
      },
      "outputs": [],
      "source": [
        "#@title Offspring Generation Function\n",
        "def generate_offspring_from(population: list,\n",
        "                            PERCENTAGE_SELECTED=10, \n",
        "                            DIM_MAX_OFFSPRING=10_000, \n",
        "                            PROB_MUT= 0.1):\n",
        "  \"\"\"\n",
        "  Generates a new list of inds (INDIS), starting from given 'population'.\n",
        "\n",
        "  @TODO: Try re-inserting the parents and have N random mating session at couple of even triplet or more \n",
        "        (I know it's kinda cringe...)\n",
        "\n",
        "  @param: population Is the starting point for this function, the list of INDIS\n",
        "  used to generate the new offspring (OFF).\n",
        "\n",
        "  @param: PERCENTAGE_SELECTED Used to select the percentage of the population considered \n",
        "  \"the best\".    \n",
        "  DEFAULT: 10\n",
        "\n",
        "  @param: DIM_MAX_OFFSPRING Used to set a Maximum for the dimension of the offspring and avoid\n",
        "  divergence/explosion of the general population.   \n",
        "  DEAFULT: 10_000\n",
        "\n",
        "  @param: PROB_MUT Probability to mutate. It is used to give the 'mutate()' method the probability\n",
        "  to mutate a gene or not. It must be given as a number in the range [0,1).  \n",
        "  DEFAULT: 0.1  (10%)\n",
        "\n",
        "  \"\"\"\n",
        "\n",
        "  #Sort by: Coverage, Number of used numbers, Number of used lists\n",
        "  #Crucial to cut the top p%\n",
        "  population.sort(key=sorting_key, reverse=True)\n",
        "\n",
        "  #get the index corresponding to the p%\n",
        "  index = int( PERCENTAGE_SELECTED/100* len(population))\n",
        "\n",
        "  #divide the population\n",
        "  top_pop = population[0:index].copy()\n",
        "\n",
        "  #May be useful for future implementations\n",
        "  #bot_pop = population[index:]\n",
        "\n",
        "  offspring = []\n",
        "\n",
        "  #Mating Session loop\n",
        "  while len(top_pop) >= 2:\n",
        "    #Randomly select 2 indis and extract them\n",
        "    i = random.randint(0, len(top_pop)-1)\n",
        "    i1 = top_pop.pop(i)\n",
        "    j = random.randint(0, len(top_pop)-1)\n",
        "    i2 = top_pop.pop(j)\n",
        "\n",
        "    #Mate them and obtain the child, mutate it and evaluate\n",
        "    child = mate(i1, i2)\n",
        "    mutate(child, PROB_MUT)\n",
        "    child.evaluate()\n",
        "\n",
        "    #Add everyone to the offspring\n",
        "    offspring.append(i1)\n",
        "    offspring.append(i2)\n",
        "    offspring.append(child)\n",
        "\n",
        "  #Sort crucial for potential Dim Max limit\n",
        "  offspring.sort(key=sorting_key, reverse=True)\n",
        "\n",
        "  if len(offspring) > DIM_MAX_OFFSPRING:\n",
        "    return offspring[0:DIM_MAX_OFFSPRING]\n",
        "  return offspring\n"
      ]
    },
    {
      "cell_type": "code",
      "execution_count": 37,
      "metadata": {},
      "outputs": [
        {
          "name": "stdout",
          "output_type": "stream",
          "text": [
            "Individual(genome=[32, 89, 335, 77, 180, 335, 368, 288, 173, 235, 366], fitness=-100000)\n",
            "Individual(genome=[402, 71, 142, 401, 390, 337, 155, 201, 34, 330, 247], fitness=-100000)\n",
            "Individual(genome=[192, 241, 310, 337, 92, 294, 362, 259, 397, 337, 269], fitness=-100000)\n",
            "Individual(genome=[132, 66, 357, 165, 301, 297, 178, 299, 316, 206, 34], fitness=-100000)\n",
            "Individual(genome=[23, 15, 375, 81, 118, 49, 340, 54, 255, 347, 243], fitness=-100000)\n",
            "Individual(genome=[165, 389, 118, 395, 413, 375, 407, 121, 53, 89, 372], fitness=-100000)\n",
            "Individual(genome=[196, 386, 215, 32, 31, 313, 128, 58, 19, 383, 37], fitness=-100000)\n",
            "Individual(genome=[226, 390, 191, 310, 323, 15, 89, 164, 55, 357, 230], fitness=-100000)\n",
            "Individual(genome=[193, 68, 326, 293, 284, 102, 100, 129, 251, 224, 347], fitness=-100000)\n",
            "Individual(genome=[146, 115, 103, 379, 82, 222, 416, 270, 414, 404, 98], fitness=-100000)\n"
          ]
        }
      ],
      "source": [
        "g = list (random_new_individual() for i in range(0,10))\n",
        "for i in g:\n",
        "    i.evaluate()\n",
        "    print(i)\n"
      ]
    },
    {
      "cell_type": "code",
      "execution_count": 39,
      "metadata": {
        "colab": {
          "base_uri": "https://localhost:8080/",
          "height": 302
        },
        "id": "kKd3bJH7mZou",
        "outputId": "5c0b033f-e4e0-47cd-952b-51b19f42efff"
      },
      "outputs": [
        {
          "name": "stdout",
          "output_type": "stream",
          "text": [
            "Winner: \n",
            " Individual(genome=[427, 329, 56, 327, 393, 358, 414, 427, 427, 421, 76, 390, 384, 217], fitness=-264)\n",
            "Cost:  264\n",
            "Bloat=  264.0 %\n",
            "Elapsed time: 5.61309289932251s\n",
            "N:  100\n",
            "GL:  14\n",
            "NG:  100\n"
          ]
        }
      ],
      "source": [
        "#@title Population Creation\n",
        "\n",
        "from time import time\n",
        "\n",
        "#SETTINGs\n",
        "GENOME_LENGTH = 14\n",
        "DIM_POP = 40000\n",
        "DIM_MAX_OFFSPRING= 1000\n",
        "PERCENTAGE_SELECTED =75 #%\n",
        "NUM_GEN = 100\n",
        "PROB_MUT = 0.7 #0.87 can be too high\n",
        "\n",
        "#Create an array of INDs istances, each already evaluated\n",
        "population = [random_new_individual() for _ in range(0, DIM_POP)]\n",
        "population.sort(key=sorting_key, reverse=True)\n",
        "\n",
        "#Plot variables init\n",
        "best_for_gen = [-100000]\n",
        "gens = range(0,NUM_GEN)\n",
        "extinted = False\n",
        "\n",
        "st  = time()\n",
        "\n",
        "for gen in range(0, NUM_GEN):\n",
        "\n",
        "  offspring=generate_offspring_from(population,\n",
        "                                      PERCENTAGE_SELECTED=PERCENTAGE_SELECTED, \n",
        "                                      PROB_MUT = PROB_MUT, \n",
        "                                      DIM_MAX_OFFSPRING=DIM_MAX_OFFSPRING)\n",
        "  \n",
        "  if len(offspring) == 0:\n",
        "      print(f\"Population extinted at gen: {gen-1} with best: {population[0].fitness}\")\n",
        "      extinted = True\n",
        "      break\n",
        "\n",
        "  population = offspring\n",
        "\n",
        "  best_score = population[0].fitness\n",
        "\n",
        "if not extinted:\n",
        "\n",
        "    et  = time()\n",
        "\n",
        "    elapsed_time = et - st\n",
        "    best =  population[0]\n",
        "    cost = -best.fitness\n",
        "    bloat = cost/N *100\n",
        "    print(\"Winner: \\n\", best)\n",
        "    print(\"Cost: \", cost)\n",
        "    print(\"Bloat= \", bloat, \"%\")\n",
        "    print(f\"Elapsed time: {elapsed_time}s\")\n",
        "\n",
        "    print(\"N: \", N)\n",
        "    print(\"GL: \", GENOME_LENGTH)\n",
        "    print(\"NG: \", NUM_GEN)\n",
        "\n"
      ]
    }
  ],
  "metadata": {
    "colab": {
      "collapsed_sections": [],
      "provenance": []
    },
    "kernelspec": {
      "display_name": "Python 3.10.4 64-bit",
      "language": "python",
      "name": "python3"
    },
    "language_info": {
      "codemirror_mode": {
        "name": "ipython",
        "version": 3
      },
      "file_extension": ".py",
      "mimetype": "text/x-python",
      "name": "python",
      "nbconvert_exporter": "python",
      "pygments_lexer": "ipython3",
      "version": "3.10.4"
    },
    "vscode": {
      "interpreter": {
        "hash": "3ad933181bd8a04b432d3370b9dc3b0662ad032c4dfaa4e4f1596c548f763858"
      }
    }
  },
  "nbformat": 4,
  "nbformat_minor": 0
}
