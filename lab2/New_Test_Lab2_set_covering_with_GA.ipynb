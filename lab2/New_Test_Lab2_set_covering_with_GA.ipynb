{
  "cells": [
    {
      "cell_type": "code",
      "execution_count": 44,
      "metadata": {
        "id": "hs3eC58mR_Zd"
      },
      "outputs": [],
      "source": [
        "#@title Imports\n",
        "import logging\n",
        "import random\n",
        "from copy import copy\n",
        "\n",
        "import random\n",
        "import platform\n",
        "from collections import Counter\n",
        "from collections import namedtuple\n",
        "#from gx_utils import *"
      ]
    },
    {
      "cell_type": "code",
      "execution_count": 45,
      "metadata": {
        "id": "NVwfF8TsQR5s"
      },
      "outputs": [],
      "source": [
        "#@title Problem instances generator\n",
        "\n",
        "def problem(N, seed=None):\n",
        "    \"\"\"Creates an instance of the problem\"\"\"\n",
        "\n",
        "    random.seed(seed)\n",
        "    return [\n",
        "        list(set(random.randint(0, N - 1) for n in range(random.randint(N // 5, N // 2))))\n",
        "        for n in range(random.randint(N, N * 5))\n",
        "    ]"
      ]
    },
    {
      "cell_type": "code",
      "execution_count": 46,
      "metadata": {
        "id": "IwHkKJdkSzq7"
      },
      "outputs": [],
      "source": [
        "#@title Some Functions for Preprocessing\n",
        "from traitlets.traitlets import Callable\n",
        "import itertools\n",
        "\n",
        "def remove_duplicates(list_):\n",
        "  list_ = list(k for k,_ in itertools.groupby(list_))\n",
        "\n",
        "  return list_\n",
        "\n",
        "def sort_by(list_: list, key: Callable = None):\n",
        "  list_.sort(key=key)\n",
        "  return list_\n",
        "  \n",
        "def preproc(problem, rem_dup=False, sort=False, f:Callable = None):\n",
        "  problem= sort_by(problem, key=f)\n",
        "  problem= remove_duplicates(problem)\n",
        "\n",
        "  #Make problem a list of sets, each inner list is now a set\n",
        "  problem= list( set(problem[i]) for i in range(0,len(problem)))\n",
        "  return problem\n",
        "\n"
      ]
    },
    {
      "cell_type": "code",
      "execution_count": 47,
      "metadata": {
        "id": "GM6_yFbFSpRD"
      },
      "outputs": [],
      "source": [
        "#@title Problem init & PreProcessing\n",
        "\n",
        "N = 100\n",
        "\n",
        "prob_raw = problem(N, seed=42)\n",
        "prob = preproc(prob_raw, sort=True, f=lambda x: -len(x))\n",
        "\n",
        "\n",
        "#For each index of the main list problme, we link a set composed by the numbers the set covers\n",
        "coverage_table = {}  #Something like {2: {1,3,4,8}}\n",
        "\n",
        "for i, set_ith in enumerate(prob):\n",
        "    coverage_table[i] = set_ith\n",
        "\n",
        "prob_dim = len(prob)\n",
        "\n",
        "\n",
        "from math import ceil, floor\n",
        "\n",
        "num_bytes = ceil(prob_dim / 8)\n",
        "diff = num_bytes*8 -prob_dim +5\n",
        "\n",
        "for i in range(len(coverage_table), len(coverage_table) + diff):\n",
        "    coverage_table[i] = set()\n",
        "\n"
      ]
    },
    {
      "cell_type": "code",
      "execution_count": 48,
      "metadata": {},
      "outputs": [
        {
          "name": "stdout",
          "output_type": "stream",
          "text": [
            "0b10000000\n",
            "0b1000000000 512\n",
            "0b0 0\n"
          ]
        }
      ],
      "source": [
        "CHECK_MASK = 0b1000_0000\n",
        "TEST_MASK =  0b1101_0100\n",
        "\n",
        "print( bin(CHECK_MASK & TEST_MASK))\n",
        "cm = CHECK_MASK << 2\n",
        "print(bin(cm), cm)\n",
        "print(bin(cm & TEST_MASK), cm & TEST_MASK)"
      ]
    },
    {
      "cell_type": "code",
      "execution_count": 49,
      "metadata": {},
      "outputs": [],
      "source": [
        "goal = set(range(0,N))\n",
        "def covered_by(genome) -> bool:\n",
        "    \"compute the coverage for a given genome\"\n",
        "    cnt = Counter()\n",
        "    cvg_set = set()\n",
        "    cvg = False\n",
        "    for b, byte in enumerate(genome, 1):\n",
        "\n",
        "        cm = CHECK_MASK\n",
        "        for i in range(0,8):\n",
        "\n",
        "            if cm & byte != 0: #check if the bit is 1\n",
        "\n",
        "                index = b*8+i  #then compute the index in the prob\n",
        "                \n",
        "                _set = coverage_table[index]\n",
        "                cnt.update(_set)\n",
        "                if not cvg and cvg_set != goal:\n",
        "                    cvg_set |= _set\n",
        "                else:\n",
        "                    cvg = True\n",
        "\n",
        "                \n",
        "            cm = cm >> i+1\n",
        "    if cvg:\n",
        "        return -cnt.total()\n",
        "    return -1000000\n",
        "\n",
        "\n",
        "def fitness_function_2(genome):\n",
        "    cnt = Counter()\n",
        "    cnt.update(sum((prob[e] for e in genome), start=()))\n",
        "\n",
        "    # Counting (Number of useful elements, Numbers of redundant elements)\n",
        "    return tuple([sum(cnt[c] - 1 for c in cnt if cnt[c] > 1), \n",
        "                 -sum(cnt[c] == 1 for c in cnt)])"
      ]
    },
    {
      "cell_type": "code",
      "execution_count": 50,
      "metadata": {},
      "outputs": [
        {
          "data": {
            "text/plain": [
              "Individual(genome=bytearray(b'\\x19\\x10\\x078\\'\\x1c:\\x08\\x87-\"y\\x05\\xd0\\xd4\\xee\\xb2-\\xc9Z\\xcc\\xab\\xac?\\xbd*\\xcc\\xcf\\xa21\\xb2\\xad\\xbb[\\x15\\xa3\\xf7\\xad\\xe0b\\x96\\x1b-l\\x00O,fa4\\x87\\xf7w\\xe7'), fitness=-2554)"
            ]
          },
          "execution_count": 50,
          "metadata": {},
          "output_type": "execute_result"
        }
      ],
      "source": [
        "i = random_new_individual()\n",
        "i"
      ]
    },
    {
      "cell_type": "code",
      "execution_count": 59,
      "metadata": {},
      "outputs": [],
      "source": [
        "#@title Individual Dataclass Def\n",
        "\n",
        "from dataclasses import dataclass, replace\n",
        "\n",
        "@dataclass\n",
        "class Individual:\n",
        "    \"\"\"Class for keeping track of an ind.\"\"\"\n",
        "    genome: bytearray\n",
        "    fitness: int = None\n",
        "\n",
        "    def evaluate(self):\n",
        "        \"\"\"\n",
        "        This function is mainly used as a wrap function, to let us change only the FF and leave the rest\n",
        "        of the code untouched, using 'evaluate'. It also helps for readability\n",
        "        \"\"\"\n",
        "\n",
        "        self.fitness = covered_by(self.genome)\n",
        "\n",
        "    def mutate(self, PROB_MUT=0.3):\n",
        "        \"\"\"\n",
        "        With a given probability 'prob' it mutates the given ind\n",
        "        \"\"\"\n",
        "        j = random.randint(0,num_bytes-1)\n",
        "\n",
        "        if random.random() < 0.3:\n",
        "            self.genome[j] = random.randint(0, 255)\n",
        "\n",
        "\n",
        "      "
      ]
    },
    {
      "cell_type": "code",
      "execution_count": 52,
      "metadata": {},
      "outputs": [
        {
          "data": {
            "text/plain": [
              "145"
            ]
          },
          "execution_count": 52,
          "metadata": {},
          "output_type": "execute_result"
        }
      ],
      "source": [
        "b = random.randbytes(num_bytes)\n",
        "b[38]"
      ]
    },
    {
      "cell_type": "code",
      "execution_count": 53,
      "metadata": {
        "id": "ES5JPjDlY5LR"
      },
      "outputs": [],
      "source": [
        "#@title Class & Function Definitions for GA\n",
        "\n",
        "from math import log \n",
        "\n",
        "\n",
        "#can be use to define GENOME_LENGTH as a function of N\n",
        "\n",
        "DEAFULT_GENOME_LENGHT = 11\n",
        "#A CRITICAL PARAMETER\n",
        "#used to define a maximum of lists taken as a solution\n",
        "#Small values can lead to unacceptable solutions, while Big \n",
        "#values lead to a huge amount of possibilities for the individuals \n",
        "#and then to a really slow converge towards a minimum\n",
        "GENOME_LENGTH = DEAFULT_GENOME_LENGHT\n",
        "\n",
        "#function used to sort the inds, and selecting the \"best\" part of them\n",
        "sorting_key= lambda x: (x.fitness)\n",
        "\n",
        "def random_new_individual():\n",
        "  \"\"\"\n",
        "  This function create a random Individual object.\n",
        "  \"\"\"\n",
        "\n",
        "  genome = bytearray( random.randbytes(num_bytes))\n",
        "\n",
        "  ind = Individual(genome, 0)\n",
        "  ind.evaluate()\n",
        "  return ind\n",
        "\n",
        "def mate(i1: Individual, i2: Individual, PROB_MUT=0.3) -> Individual:\n",
        "  \"\"\"\n",
        "  Take two inds, randomly cut their genome and then create a new ind with \n",
        "  the genome create by the union of the two parts, properly\n",
        "  \"\"\"\n",
        "\n",
        "  #cut_index = random.randint(0,len_genome)\n",
        "\n",
        "  cut_index = random.randint( int( GENOME_LENGTH/3), int(2*GENOME_LENGTH/3) )\n",
        "  new_genome = bytearray()\n",
        "  new_genome[0:cut_index] = i1.genome[0:cut_index]\n",
        "  new_genome[cut_index:] = i2.genome[cut_index:]\n",
        "  ind = Individual(new_genome,0)\n",
        "  ind.mutate(PROB_MUT)\n",
        "  ind.evaluate()\n",
        "  return ind\n"
      ]
    },
    {
      "cell_type": "code",
      "execution_count": 67,
      "metadata": {
        "cellView": "form",
        "id": "IeURpRbydBdM"
      },
      "outputs": [],
      "source": [
        "#@title Offspring Generation Function\n",
        "def generate_offspring_from(population: list,\n",
        "                            PERCENTAGE_SELECTED=10, \n",
        "                            DIM_MAX_OFFSPRING=10_000, \n",
        "                            PROB_MUT= 0.1):\n",
        "  \"\"\"\n",
        "  Generates a new list of inds (INDIS), starting from given 'population'.\n",
        "\n",
        "  @TODO: Try re-inserting the parents and have N random mating session at couple of even triplet or more \n",
        "        (I know it's kinda cringe...)\n",
        "\n",
        "  @param: population Is the starting point for this function, the list of INDIS\n",
        "  used to generate the new offspring (OFF).\n",
        "\n",
        "  @param: PERCENTAGE_SELECTED Used to select the percentage of the population considered \n",
        "  \"the best\".    \n",
        "  DEFAULT: 10\n",
        "\n",
        "  @param: DIM_MAX_OFFSPRING Used to set a Maximum for the dimension of the offspring and avoid\n",
        "  divergence/explosion of the general population.   \n",
        "  DEAFULT: 10_000\n",
        "\n",
        "  @param: PROB_MUT Probability to mutate. It is used to give the 'mutate()' method the probability\n",
        "  to mutate a gene or not. It must be given as a number in the range [0,1).  \n",
        "  DEFAULT: 0.1  (10%)\n",
        "\n",
        "  \"\"\"\n",
        "\n",
        "  #Sort by: Coverage, Number of used numbers, Number of used lists\n",
        "  #Crucial to cut the top p%\n",
        "  population.sort(key=sorting_key, reverse=True)\n",
        "\n",
        "  #get the index corresponding to the p%\n",
        "  index = int( PERCENTAGE_SELECTED/100* len(population))\n",
        "\n",
        "  #divide the population\n",
        "  top_pop = population[0:index].copy()\n",
        "\n",
        "  #May be useful for future implementations\n",
        "  #bot_pop = population[index:]\n",
        "\n",
        "  offspring = []\n",
        "\n",
        "  #Mating Session loop\n",
        "  while len(top_pop) >= 2:\n",
        "    #Randomly select 2 indis and extract them\n",
        "    i = random.randint(0, len(top_pop)-1)\n",
        "    i1 = top_pop.pop(i)\n",
        "    j = random.randint(0, len(top_pop)-1)\n",
        "    i2 = top_pop.pop(j)\n",
        "\n",
        "    #Mate them and obtain the child, mutate it and evaluate\n",
        "    child = mate(i1, i2)\n",
        "    child.mutate(PROB_MUT)\n",
        "    child.evaluate()\n",
        "\n",
        "    #Add everyone to the offspring\n",
        "    offspring.append(i1)\n",
        "    offspring.append(i2)\n",
        "    offspring.append(child)\n",
        "\n",
        " \n",
        "\n",
        "  #Sort crucial for potential Dim Max limit\n",
        "  offspring.sort(key=sorting_key, reverse=True)\n",
        "\n",
        "  if len(offspring) > DIM_MAX_OFFSPRING:\n",
        "    return offspring[0:DIM_MAX_OFFSPRING]\n",
        "  return offspring\n"
      ]
    },
    {
      "cell_type": "code",
      "execution_count": 68,
      "metadata": {
        "colab": {
          "base_uri": "https://localhost:8080/",
          "height": 302
        },
        "id": "kKd3bJH7mZou",
        "outputId": "5c0b033f-e4e0-47cd-952b-51b19f42efff"
      },
      "outputs": [
        {
          "name": "stderr",
          "output_type": "stream",
          "text": [
            "Current Best Score -1492: 100%|██████████| 1000/1000 [00:38<00:00, 25.90it/s]"
          ]
        },
        {
          "name": "stdout",
          "output_type": "stream",
          "text": [
            "Winner: \n",
            " Individual(genome=bytearray(b'i\\t\\xf1s!(\\xb55\\xd7X\\x11\\x97=Tv\\x08\\xf2\\xeb\\xbc\\xdf~d\\x8a\\xe8x\\x1a\\xa6,5\\xa4F\\x80\\xf6GB\\xaf\\xcbv\\xb0\\xcd\\xfe\"_\\xb6\\xbb\\x9a\\\\\\xc6}\\x83\\x92~\\xf2:'), fitness=-1492)\n",
            "Cost:  1492\n",
            "Bloat=  1492.0 %\n",
            "Elapsed time: 38.6175000667572s\n",
            "N:  100\n",
            "GL:  14\n",
            "NG:  1000\n"
          ]
        },
        {
          "name": "stderr",
          "output_type": "stream",
          "text": [
            "\n"
          ]
        }
      ],
      "source": [
        "#@title Population Creation\n",
        "\n",
        "from time import time\n",
        "from tqdm import tqdm\n",
        "#SETTINGs\n",
        "GENOME_LENGTH = 14\n",
        "DIM_POP = 4000\n",
        "DIM_MAX_OFFSPRING= 100\n",
        "PERCENTAGE_SELECTED =80 #%\n",
        "NUM_GEN = 1000\n",
        "PROB_MUT = 0.9 #0.87 can be too high\n",
        "\n",
        "#Create an array of INDs istances, each already evaluated\n",
        "population = [random_new_individual() for _ in range(0, DIM_POP)]\n",
        "population.sort(key=sorting_key, reverse=True)\n",
        "\n",
        "#Plot variables init\n",
        "best_for_gen = [-100000]\n",
        "best_score = -100000\n",
        "gens = range(0,NUM_GEN)\n",
        "extinted = False\n",
        "\n",
        "st  = time()\n",
        "gen_iterator  = tqdm(range(0, NUM_GEN))\n",
        "for gen in gen_iterator:\n",
        "  gen_iterator.set_description(\"Current Best Score %d\" % best_score)\n",
        "  offspring=generate_offspring_from(population,\n",
        "                                      PERCENTAGE_SELECTED=PERCENTAGE_SELECTED, \n",
        "                                      PROB_MUT = PROB_MUT, \n",
        "                                      DIM_MAX_OFFSPRING=DIM_MAX_OFFSPRING)\n",
        "  \n",
        "  if len(offspring) == 0:\n",
        "      print(f\"Population extinted at gen: {gen-1} with best: {population[0].fitness}\")\n",
        "      extinted = True\n",
        "      break\n",
        "\n",
        "  population = offspring\n",
        "\n",
        "  best_score = population[0].fitness\n",
        "\n",
        "if not extinted:\n",
        "\n",
        "    et  = time()\n",
        "\n",
        "    elapsed_time = et - st\n",
        "    best =  population[0]\n",
        "    cost = -best.fitness\n",
        "    bloat = cost/N *100\n",
        "    print(\"Winner: \\n\", best)\n",
        "    print(\"Cost: \", cost)\n",
        "    print(\"Bloat= \", bloat, \"%\")\n",
        "    print(f\"Elapsed time: {elapsed_time}s\")\n",
        "\n",
        "    print(\"N: \", N)\n",
        "    print(\"GL: \", GENOME_LENGTH)\n",
        "    print(\"NG: \", NUM_GEN)\n",
        "\n"
      ]
    }
  ],
  "metadata": {
    "colab": {
      "collapsed_sections": [],
      "provenance": []
    },
    "kernelspec": {
      "display_name": "Python 3.10.4 64-bit",
      "language": "python",
      "name": "python3"
    },
    "language_info": {
      "codemirror_mode": {
        "name": "ipython",
        "version": 3
      },
      "file_extension": ".py",
      "mimetype": "text/x-python",
      "name": "python",
      "nbconvert_exporter": "python",
      "pygments_lexer": "ipython3",
      "version": "3.10.4"
    },
    "vscode": {
      "interpreter": {
        "hash": "3ad933181bd8a04b432d3370b9dc3b0662ad032c4dfaa4e4f1596c548f763858"
      }
    }
  },
  "nbformat": 4,
  "nbformat_minor": 0
}
