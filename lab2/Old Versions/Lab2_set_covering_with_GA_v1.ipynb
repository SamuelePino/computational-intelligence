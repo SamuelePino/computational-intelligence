{
  "cells": [
    {
      "cell_type": "code",
      "execution_count": 109,
      "metadata": {
        "id": "hs3eC58mR_Zd"
      },
      "outputs": [],
      "source": [
        "#@title Imports\n",
        "import logging\n",
        "import random\n",
        "from copy import copy\n",
        "\n",
        "import random\n",
        "import platform\n",
        "from collections import Counter\n",
        "\n",
        "#from gx_utils import *"
      ]
    },
    {
      "cell_type": "code",
      "execution_count": 110,
      "metadata": {
        "id": "NVwfF8TsQR5s"
      },
      "outputs": [],
      "source": [
        "#@title Problem instances generator\n",
        "\n",
        "def problem(N, seed=None):\n",
        "    \"\"\"Creates an instance of the problem\"\"\"\n",
        "\n",
        "    random.seed(seed)\n",
        "    return [\n",
        "        list(set(random.randint(0, N - 1) for n in range(random.randint(N // 5, N // 2))))\n",
        "        for n in range(random.randint(N, N * 5))\n",
        "    ]"
      ]
    },
    {
      "cell_type": "code",
      "execution_count": 111,
      "metadata": {
        "id": "IwHkKJdkSzq7"
      },
      "outputs": [],
      "source": [
        "from traitlets.traitlets import Callable\n",
        "import itertools\n",
        "\n",
        "def remove_duplicates(list_):\n",
        "  list_ = list(k for k,_ in itertools.groupby(list_))\n",
        "\n",
        "  return list_\n",
        "\n",
        "def sort_by(list_: list, key: Callable = None):\n",
        "  list_.sort(key=key)\n",
        "  return list_\n",
        "  \n",
        "def preproc(problem, rem_dup=False, sort=False, f:Callable = None):\n",
        "  problem= sort_by(problem, key=f)\n",
        "  problem= remove_duplicates(problem)\n",
        "  return problem"
      ]
    },
    {
      "cell_type": "code",
      "execution_count": 112,
      "metadata": {
        "id": "GM6_yFbFSpRD"
      },
      "outputs": [],
      "source": [
        "#@title Problem init & PreProcessing\n",
        "N = 5\n",
        "\n",
        "prob = problem(N, seed=42)\n",
        "prob = preproc(prob)\n",
        "prob_dim = len(prob)\n",
        "\n"
      ]
    },
    {
      "cell_type": "code",
      "execution_count": 113,
      "metadata": {
        "colab": {
          "base_uri": "https://localhost:8080/"
        },
        "id": "6iNvXvw1t9aI",
        "outputId": "05f17a7d-ea0d-4a28-c76b-64605c843872"
      },
      "outputs": [
        {
          "data": {
            "text/plain": [
              "21"
            ]
          },
          "execution_count": 113,
          "metadata": {},
          "output_type": "execute_result"
        }
      ],
      "source": [
        "check_table = list( True for _ in range(0,21))\n",
        "sum(check_table)"
      ]
    },
    {
      "cell_type": "code",
      "execution_count": 116,
      "metadata": {
        "id": "ES5JPjDlY5LR"
      },
      "outputs": [],
      "source": [
        "#@title Class & Function Definitions for GA\n",
        "\n",
        "\n",
        "#You can change this to try different fitness function (FF)\n",
        "def fitness_function(genome):\n",
        "    \"\"\"\n",
        "    This function compute roughly two metrics: the number of used lists and the percentage of integers covered\n",
        "    it also uses two parameters (Alpha and Beta) to weigth differently the aforementioned metrics\n",
        "    \"\"\"\n",
        "\n",
        "    #Parameters for weigthing the two metrics used\n",
        "    alpha = 3\n",
        "    beta = 2\n",
        "\n",
        "    #First metric\n",
        "    num_of_lists_taken = sum(genome)\n",
        "\n",
        "    check_table = list( False for _ in range(0,N))\n",
        "    #Read all genes in the genome, using an index\n",
        "    for index in range(0, len(genome)):\n",
        "\n",
        "      #if the genome at this index is 1, the individual has the index-th list of the problem\n",
        "      if genome[index] == 1:\n",
        "\n",
        "        #so we check for each integer in that list, and we update the checkTable\n",
        "        for target_integer in range(0,N):\n",
        "          if target_integer in prob[index]:\n",
        "            check_table[target_integer] = True\n",
        "          if all(check_table):\n",
        "            break\n",
        "\n",
        "    #Second Metric\n",
        "    percentage_of_value_covered = ( sum(check_table)/N ) * 100\n",
        "\n",
        "    #Fitness Score equation  \n",
        "    fitness_score = alpha*percentage_of_value_covered - beta*num_of_lists_taken  #we want to minimize the second addendum\n",
        "\n",
        "    return fitness_score\n",
        "\n",
        "\n",
        "class Individual():\n",
        "\n",
        "  def __init__(self, genome=None, fitness_score=None):\n",
        "    self.genome= genome\n",
        "    self.fitness_score= fitness_score\n",
        "\n",
        "  def __str__(self):\n",
        "    return f\"\"\"GENOME: {indi.genome}\\nFIT_SCORE: {indi.fitness_score}\"\"\"\n",
        "\n",
        "  def evaluate(self):\n",
        "    \"\"\"\n",
        "    This function is mainly used as a wrap function, to let us change only the FF and leave the rest\n",
        "    of the code untouched, using 'evaluate'. It also helps for readability\n",
        "    \"\"\"\n",
        "\n",
        "    self.fitness_score = fitness_function(self.genome)\n",
        "\n",
        "  def mutate(self):\n",
        "    \"\"\"\n",
        "    This function simulates mutations over the entire genome. \n",
        "    For each gene it tries to mutate with a give probability p.\n",
        "    The mutation is random between 0 or 1 \n",
        "    \"\"\"\n",
        "\n",
        "    #TODO: check if mutate a single gene with 100% probability is better than this approach\n",
        "\n",
        "    p = 0.05 #probability of mutation on the single gene\n",
        "\n",
        "    #for each gene, consider mutate it with a certain probability p\n",
        "    for gene_index in range(0, len(self.genome)):\n",
        "      if random.random() < p:\n",
        "        #set its value randomly\n",
        "        self.genome[gene_index] = random.choice([0,1])\n",
        "    self.fitness_score = self.evaluate()\n",
        "\n",
        "  def cross_over(genome1, genome2):\n",
        "    #TODO: consider setting a Constant for the length of the genome\n",
        "    cut_index = random.randint(0,len(genome1))\n",
        "    temp = []\n",
        "    temp = genome1[0:cut_index]\n",
        "    genome1[0:cut_index] = genome2[0:cut_index]\n",
        "    genome2[0:cut_index] = temp\n",
        "\n",
        "    return genome1, genome2, cut_index\n",
        "  \n",
        "  def recombine_with(self, other_individual: Individual, recomb_function: Callable=cross_over):\n",
        "    g1 = self.genome\n",
        "    g2 = other_individual.genome\n",
        "    \n",
        "    self.genome, other_individual.genome, cut_index = recomb_function(g1,g2)\n",
        "    self.evaluate()\n",
        "    other_individual.evaluate()\n",
        "    return cut_index\n",
        "\n",
        "def random_new_individual():\n",
        "  \"\"\"\n",
        "  This function create an Individual object\n",
        "  Genome defined as a bunch of lists from problem\n",
        "  Fitness score defined using a FF implemented in the 'evaluate' function\n",
        "  we take a list of value 1 (list taken) or 0 (list NOT taken), each corresponding to a specific list of the problem\n",
        "  \"\"\"\n",
        "  indi = Individual()\n",
        "  genome = list(random.choice([0,1]) for _ in range(0, prob_dim))   #something like  [0 1 1 0 ... 0 1 1]\n",
        "  indi.genome = genome\n",
        "  indi.evaluate()\n",
        "  return indi\n",
        "\n",
        "\n",
        "\n",
        "\n"
      ]
    },
    {
      "cell_type": "code",
      "execution_count": 117,
      "metadata": {
        "colab": {
          "base_uri": "https://localhost:8080/"
        },
        "id": "LVsbBb0Y57ML",
        "outputId": "addef9a9-d120-40f5-df02-b4eb353cd36f"
      },
      "outputs": [
        {
          "name": "stdout",
          "output_type": "stream",
          "text": [
            "BEFORE REC:\n",
            "1) GENOME: [1, 1, 1, 0, 0, 0, 0, 1, 0, 1]\n",
            "FIT_SCORE: 230.0\n",
            "\n",
            "2) GENOME: [1, 1, 1, 0, 0, 0, 0, 1, 0, 1]\n",
            "FIT_SCORE: 230.0\n",
            "AFTER REC at 1:\n",
            "1) GENOME: [1, 1, 1, 0, 0, 0, 0, 1, 0, 1]\n",
            "FIT_SCORE: 230.0\n",
            "\n",
            "2) GENOME: [1, 1, 1, 0, 0, 0, 0, 1, 0, 1]\n",
            "FIT_SCORE: 230.0\n"
          ]
        }
      ],
      "source": [
        "i1 = random_new_individual()\n",
        "i2 = random_new_individual()\n",
        "\n",
        "i1.evaluate\n",
        "i2.evaluate\n",
        "\n",
        "#indi.mutate()\n",
        "#print(f\"MUTATED\\nGENOME: {indi.genome}\")\n",
        "\n",
        "\n",
        "print(f\"BEFORE REC:\\n1) {i1}\\n\\n2) {i2}\")\n",
        "ci=i1.recombine_with(i2)\n",
        "\n",
        "print(f\"AFTER REC at {ci}:\\n1) {i1}\\n\\n2) {i2}\")"
      ]
    },
    {
      "cell_type": "code",
      "execution_count": 118,
      "metadata": {
        "colab": {
          "base_uri": "https://localhost:8080/"
        },
        "id": "xqCMan9mLV4i",
        "outputId": "a8448f16-2e99-4e1d-de49-83f20e67af8c"
      },
      "outputs": [
        {
          "name": "stdout",
          "output_type": "stream",
          "text": [
            "GENOME: [1, 1, 1, 0, 0, 0, 0, 1, 0, 1]\n",
            "FIT_SCORE: 230.0\n",
            "GENOME: [1, 1, 1, 0, 0, 0, 0, 1, 0, 1]\n",
            "FIT_SCORE: 230.0\n",
            "GENOME: [1, 1, 1, 0, 0, 0, 0, 1, 0, 1]\n",
            "FIT_SCORE: 230.0\n",
            "GENOME: [1, 1, 1, 0, 0, 0, 0, 1, 0, 1]\n",
            "FIT_SCORE: 230.0\n",
            "GENOME: [1, 1, 1, 0, 0, 0, 0, 1, 0, 1]\n",
            "FIT_SCORE: 230.0\n",
            "GENOME: [1, 1, 1, 0, 0, 0, 0, 1, 0, 1]\n",
            "FIT_SCORE: 230.0\n",
            "GENOME: [1, 1, 1, 0, 0, 0, 0, 1, 0, 1]\n",
            "FIT_SCORE: 230.0\n",
            "GENOME: [1, 1, 1, 0, 0, 0, 0, 1, 0, 1]\n",
            "FIT_SCORE: 230.0\n",
            "GENOME: [1, 1, 1, 0, 0, 0, 0, 1, 0, 1]\n",
            "FIT_SCORE: 230.0\n",
            "GENOME: [1, 1, 1, 0, 0, 0, 0, 1, 0, 1]\n",
            "FIT_SCORE: 230.0\n"
          ]
        }
      ],
      "source": [
        "for i in range(0,10):\n",
        "  print(random_new_individual())\n",
        "\n",
        "#TODO: Understand why the func generates only a single random genome for 10 times and not an entire list of 10 random genomes"
      ]
    }
  ],
  "metadata": {
    "colab": {
      "collapsed_sections": [],
      "provenance": []
    },
    "kernelspec": {
      "display_name": "Python 3",
      "name": "python3"
    },
    "language_info": {
      "name": "python"
    }
  },
  "nbformat": 4,
  "nbformat_minor": 0
}
