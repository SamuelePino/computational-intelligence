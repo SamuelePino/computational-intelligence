{
  "nbformat": 4,
  "nbformat_minor": 0,
  "metadata": {
    "colab": {
      "provenance": [],
      "collapsed_sections": []
    },
    "kernelspec": {
      "name": "python3",
      "display_name": "Python 3"
    },
    "language_info": {
      "name": "python"
    }
  },
  "cells": [
    {
      "cell_type": "code",
      "source": [
        "#@title Imports\n",
        "import logging\n",
        "import random\n",
        "from copy import copy\n",
        "\n",
        "import random\n",
        "import platform\n",
        "from collections import Counter\n",
        "\n",
        "#from gx_utils import *"
      ],
      "metadata": {
        "id": "hs3eC58mR_Zd"
      },
      "execution_count": 17,
      "outputs": []
    },
    {
      "cell_type": "code",
      "execution_count": 18,
      "metadata": {
        "id": "NVwfF8TsQR5s"
      },
      "outputs": [],
      "source": [
        "#@title Problem instances generator\n",
        "\n",
        "def problem(N, seed=None):\n",
        "    \"\"\"Creates an instance of the problem\"\"\"\n",
        "\n",
        "    random.seed(seed)\n",
        "    return [\n",
        "        list(set(random.randint(0, N - 1) for n in range(random.randint(N // 5, N // 2))))\n",
        "        for n in range(random.randint(N, N * 5))\n",
        "    ]"
      ]
    },
    {
      "cell_type": "code",
      "source": [
        "from traitlets.traitlets import Callable\n",
        "import itertools\n",
        "\n",
        "def remove_duplicates(list_):\n",
        "  list_ = list(k for k,_ in itertools.groupby(list_))\n",
        "\n",
        "  return list_\n",
        "\n",
        "def sort_by(list_: list, key: Callable = None):\n",
        "  list_.sort(key=key)\n",
        "  return list_\n",
        "  \n",
        "def preproc(problem, rem_dup=False, sort=False, f:Callable = None):\n",
        "  problem= sort_by(problem, key=f)\n",
        "  problem= remove_duplicates(problem)\n",
        "  return problem"
      ],
      "metadata": {
        "id": "IwHkKJdkSzq7"
      },
      "execution_count": 19,
      "outputs": []
    },
    {
      "cell_type": "code",
      "source": [
        "#@title Problem init & PreProcessing\n",
        "N = 10\n",
        "\n",
        "prob_raw = problem(N, seed=42)\n",
        "prob = preproc(prob_raw)\n",
        "prob_dim = len(prob)\n",
        "\n"
      ],
      "metadata": {
        "id": "GM6_yFbFSpRD"
      },
      "execution_count": 45,
      "outputs": []
    },
    {
      "cell_type": "code",
      "source": [
        "check_table = list( True for _ in range(0,21))\n",
        "sum(check_table)"
      ],
      "metadata": {
        "colab": {
          "base_uri": "https://localhost:8080/"
        },
        "id": "6iNvXvw1t9aI",
        "outputId": "d0addf5c-b8e8-42a8-a921-15c0c7db1c47"
      },
      "execution_count": 21,
      "outputs": [
        {
          "output_type": "execute_result",
          "data": {
            "text/plain": [
              "21"
            ]
          },
          "metadata": {},
          "execution_count": 21
        }
      ]
    },
    {
      "cell_type": "code",
      "source": [
        "from IPython.utils.text import num_ini_spaces\n",
        "#@title Class & Function Definitions for GA\n",
        "\n",
        "#@TODO: Work on Checking coverage more efficiently; with N=1000 this seems to be the slowest part of the code\n",
        "#You can change this to try different fitness function (FF)\n",
        "def fitness_function(genome):\n",
        "    \"\"\"\n",
        "    This function compute roughly two metrics: the number of used lists and the percentage of integers covered\n",
        "    it also uses two parameters (Alpha and Beta) to weigth differently the aforementioned metrics\n",
        "    \"\"\"\n",
        "\n",
        "    #First metric\n",
        "    num_of_lists_taken = sum(genome)\n",
        "\n",
        "    #Third metric\n",
        "    num_of_total_numbers = 0\n",
        "\n",
        "    check_table = list( False for _ in range(0,N))\n",
        "    #Read all genes in the genome, using an index\n",
        "    for index in range(0, len(genome)):\n",
        "\n",
        "      #if the genome at this index is 1, the individual has the index-th list of the problem\n",
        "      if genome[index] == 1:\n",
        "        \n",
        "        #read the number of elements in that list, and add it to the total\n",
        "        num_of_total_numbers += len(prob[index])\n",
        "\n",
        "        #then we check for each integer in that list, and we update the checkTable\n",
        "        for target_integer in range(0,N):\n",
        "          if target_integer in prob[index]:\n",
        "            check_table[target_integer] = True\n",
        "          if all(check_table):\n",
        "            break\n",
        "      if all(check_table):\n",
        "            break\n",
        "    \n",
        "    #Second Metric\n",
        "    values_coverage = ( sum(check_table)/N ) * 100\n",
        "\n",
        "    #let's try a multi dimensional fitness function \n",
        "    #( negative values useful for \"Minimizing\" without using 1/x which would have requested using sorting on f32)\n",
        "    return values_coverage, -num_of_total_numbers , -num_of_lists_taken\n",
        "\n",
        "\n",
        "class Individual():\n",
        "\n",
        "  def __init__(self, genome=None, fitness_score=None):\n",
        "    self.genome= genome\n",
        "    self.fitness_score= fitness_score\n",
        "\n",
        "  def __str__(self):\n",
        "    return f\"\"\"GENOME: {self.genome}\\nFIT_SCORE: {self.fitness_score}\"\"\"\n",
        "\n",
        "  def evaluate(self):\n",
        "    \"\"\"\n",
        "    This function is mainly used as a wrap function, to let us change only the FF and leave the rest\n",
        "    of the code untouched, using 'evaluate'. It also helps for readability\n",
        "    \"\"\"\n",
        "\n",
        "    self.fitness_score = fitness_function(self.genome)\n",
        "\n",
        "  def mutate(self, prob=0.1):\n",
        "    \"\"\"\n",
        "    This function simulates mutations over the entire genome. \n",
        "    For each gene it tries to mutate with a give probability p.\n",
        "    The mutation is random between 0 or 1 \n",
        "    \"\"\"\n",
        "\n",
        "    #TODO: check if mutate a single gene with 100% probability is better than this approach\n",
        "\n",
        "    #for each gene, consider mutate it with a certain probability p\n",
        "    for gene_index in range(0, len(self.genome)):\n",
        "      if random.random() < prob:\n",
        "        #set its value randomly\n",
        "        self.genome[gene_index] = random.choice([0,1])\n",
        "\n",
        "def random_new_individual():\n",
        "  \"\"\"\n",
        "  This function create an Individual object\n",
        "  Genome defined as a bunch of lists from problem\n",
        "  Fitness score defined using a FF implemented in the 'evaluate' function\n",
        "  we take a list of value 1 (list taken) or 0 (list NOT taken), each corresponding to a specific list of the problem\n",
        "  \"\"\"\n",
        "  indi = Individual()\n",
        "  genome = list(random.choice([0,1]) for _ in range(0, prob_dim))   #something like  [0 1 1 0 ... 0 1 1]\n",
        "  indi.genome = genome\n",
        "  indi.evaluate()\n",
        "  return indi\n",
        "\n",
        "def mate(i1: Individual, i2: Individual) -> Individual:\n",
        "  \"\"\"\n",
        "  Take two indis, randomly cut their genome and then create a new indi with \n",
        "  the genome create by the union of the two parts, properly\n",
        "  \"\"\"\n",
        "\n",
        "  indi = Individual()\n",
        "\n",
        "  cut_index = random.randint(0,len(i1.genome))\n",
        "  indi.genome = []\n",
        "  indi.genome[0:cut_index] = i1.genome[0:cut_index]\n",
        "  indi.genome[cut_index:] = i2.genome[cut_index:]\n",
        "  indi.mutate()\n",
        "\n",
        "  return indi\n",
        "\n",
        "def generate_offspring_from(population: list,\n",
        "                            p_best_copied=10, \n",
        "                            DIM_MAX_OFFSPRING=10_000, \n",
        "                            p_mut= 0.1):\n",
        "  \"\"\"\n",
        "  Generates a new list of individuals (INDIS), starting from given 'population'.\n",
        "\n",
        "  The main idea is to:\n",
        "  1) select a specific part of the population given a p percentage, as the 'top';\n",
        "  2) save these top INDIS (added in the offspring during the matin);\n",
        "  3) let these top INDIS have a mating session at random couple (then extracted), \n",
        "     where their direct offspring genome is obtained as a part of the genome of \n",
        "     parent 1 and the other part from parent 2. \n",
        "  4) the 'child' is then mutated and added to the offspring list, together with both its parents\n",
        "    NB: parents are extracted from the top_pop list, and added to the offspring\n",
        "\n",
        "  RECAP:\n",
        "  The population will be composed by the top p% of the population, and by their offspring, obtained through\n",
        "  a sort of Recombination/crossover followed by a mutation\n",
        "\n",
        "  @TODO: Try re-inserting the parents and have N random mating session at couple of even triplet or more \n",
        "        (I know it's kinda cringe...)\n",
        "\n",
        "  @param: population Is the starting point for this function, the list of INDIS\n",
        "  used to generate the new offspring (OFF).\n",
        "\n",
        "  @param: p_best_copied Used to select the percentage of the population considered \n",
        "  \"the best\".    \n",
        "  DEFAULT: 10\n",
        "\n",
        "  @param: DIM_MAX_OFFSPRING Used to set a Maximum for the dimension of the offspring and avoid\n",
        "  divergence/explosion of the general population.   \n",
        "  DEAFULT: 10_000\n",
        "\n",
        "  @param: p_mut Probability to mutate. It is used to give the 'mutate()' method the probability\n",
        "  to mutate a gene or not. It must be given as a number in the range [0,1).  \n",
        "  DEFAULT: 0.1  (10%)\n",
        "\n",
        "  \"\"\"\n",
        "\n",
        "  #Sort by: Coverage, Number of used numbers, Number of used lists\n",
        "  #Crucial to cut the top p%\n",
        "  population.sort(key= lambda x: (x.fitness_score[0], x.fitness_score[1], x.fitness_score[2]), reverse=True)\n",
        "\n",
        "  #get the index corresponding to the p%\n",
        "  index = int( p_best_copied/100* len(population))\n",
        "\n",
        "  #divide the population\n",
        "  top_pop = population[0:index]\n",
        "\n",
        "  #Maybe useful for future implementations\n",
        "  bot_pop = population[index:]\n",
        "\n",
        "  offspring = []\n",
        "\n",
        "  #Mating Session loop\n",
        "  while len(top_pop) > 2:\n",
        "    #Randomly select 2 indis and extract them\n",
        "    i = random.randint(0, len(top_pop)-1)\n",
        "    i1 = top_pop.pop(i)\n",
        "    j = random.randint(0, len(top_pop)-1)\n",
        "    i2 = top_pop.pop(j)\n",
        "\n",
        "    #Mate them and obtain the child, mutate it and evaluate\n",
        "    child = mate(i1, i2)\n",
        "    child.mutate()\n",
        "    child.evaluate()\n",
        "\n",
        "    #Add everyone to the offspring\n",
        "    offspring.append(i1)\n",
        "    offspring.append(i2)\n",
        "    offspring.append(child)\n",
        "\n",
        "  #Sort crucial for potential Dim Max limit\n",
        "  offspring.sort(key= lambda x: (x.fitness_score[0], x.fitness_score[1], x.fitness_score[2]), reverse=True)\n",
        "\n",
        "  if len(offspring) > DIM_MAX_OFFSPRING:\n",
        "    return offspring[0:DIM_MAX_OFFSPRING]\n",
        "  return offspring\n"
      ],
      "metadata": {
        "id": "ES5JPjDlY5LR"
      },
      "execution_count": 53,
      "outputs": []
    },
    {
      "cell_type": "code",
      "source": [
        "\n",
        "#@title Test Functions\n",
        "i1 = random_new_individual()\n",
        "i2 = random_new_individual()\n",
        "\n",
        "i1.evaluate\n",
        "i2.evaluate\n",
        "\n",
        "#indi.mutate()\n",
        "#print(f\"MUTATED\\nGENOME: {indi.genome}\")\n",
        "\n",
        "\n",
        "print(f\"BEFORE REC:\\n1) {i1}\\n\\n2) {i2}\")\n",
        "ci=i1.recombine_with(i2)\n",
        "\n",
        "print(f\"\\n\\nAFTER REC at {ci}:\\n1) {i1}\\n\\n2) {i2}\")"
      ],
      "metadata": {
        "id": "LVsbBb0Y57ML",
        "cellView": "form"
      },
      "execution_count": null,
      "outputs": []
    },
    {
      "cell_type": "code",
      "source": [
        "#@title Population Creation\n",
        "\n",
        "\n",
        "DIM_POP = 390\n",
        "#Create an array of Individual istances, each already evaluate\n",
        "population = [random_new_individual() for _ in range(0, DIM_POP)]\n",
        "population.sort(key= lambda x: (x.fitness_score[0], x.fitness_score[1], x.fitness_score[2]), reverse=True)\n",
        "\n",
        "DIM_MAX_OFFSPRING= 700\n",
        "\n",
        "P = 70 #%\n",
        "TDIM = 10\n",
        "NUM_GEN = 1000\n",
        "P_MUT = 0.45\n",
        "\n",
        "\n",
        "#Plot variables\n",
        "best_for_gen = []\n",
        "gens = range(0,NUM_GEN)\n",
        "\n",
        "for gen in range(0, NUM_GEN):\n",
        "\n",
        "  offspring = generate_offspring_from(population, \n",
        "                                      p_best_copied=P, \n",
        "                                      p_mut = P_MUT, \n",
        "                                      DIM_MAX_OFFSPRING=DIM_MAX_OFFSPRING)\n",
        "  #offspring.sort(key= lambda x: (x.fitness_score[0], x.fitness_score[1], x.fitness_score[2]), reverse=True)\n",
        "  population = offspring\n",
        "  best_score = population[0].fitness_score[1]\n",
        "  best_for_gen.append(best_score)\n",
        "\n",
        "\n",
        "import matplotlib.pyplot as plt\n",
        "import numpy as np\n",
        "\n",
        "plt.plot(gens, best_for_gen)\n",
        "plt.show()\n",
        "print(population[0])\n"
      ],
      "metadata": {
        "colab": {
          "base_uri": "https://localhost:8080/",
          "height": 321
        },
        "id": "kKd3bJH7mZou",
        "outputId": "67b44d4c-04b3-41f5-fa0b-19cc44e363cb"
      },
      "execution_count": 60,
      "outputs": [
        {
          "output_type": "display_data",
          "data": {
            "text/plain": [
              "<Figure size 432x288 with 1 Axes>"
            ],
            "image/png": "[encoded data removed]"
          },
          "metadata": {
            "needs_background": "light"
          }
        },
        {
          "output_type": "stream",
          "name": "stdout",
          "text": [
            "GENOME: [0, 0, 0, 0, 0, 0, 0, 1, 0, 0, 0, 0, 0, 0, 0, 0, 0, 0, 0, 0, 1, 0, 0, 0, 0, 1, 0, 0, 1, 0, 0, 0, 0, 0, 0, 0, 0, 0, 0, 0, 0, 0]\n",
            "FIT_SCORE: (100.0, -10, -4)\n"
          ]
        }
      ]
    },
    {
      "cell_type": "code",
      "source": [
        "print(population[0])"
      ],
      "metadata": {
        "id": "b2enfR2dnVxo",
        "colab": {
          "base_uri": "https://localhost:8080/"
        },
        "outputId": "f0c85503-a4d8-4317-fbad-9312a29be65e"
      },
      "execution_count": 25,
      "outputs": [
        {
          "output_type": "stream",
          "name": "stdout",
          "text": [
            "GENOME: [0, 0, 0, 0, 0, 0, 0, 1, 0, 0, 0, 0, 0, 0, 0, 0, 0, 1, 0, 1, 0, 0, 0, 0, 0, 1, 0, 0, 1, 0, 0, 0, 1, 0, 0, 1, 1, 1, 0, 1, 0, 0]\n",
            "FIT_SCORE: (100.0, -11, -10)\n"
          ]
        }
      ]
    }
  ]
}