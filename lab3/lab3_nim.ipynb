{
 "cells": [
  {
   "cell_type": "markdown",
   "metadata": {
    "pycharm": {
     "name": "#%% md\n"
    }
   },
   "source": [
    "Copyright **`(c)`** 2022 Giovanni Squillero `<squillero@polito.it>`  \n",
    "[`https://github.com/squillero/computational-intelligence`](https://github.com/squillero/computational-intelligence)  \n",
    "Free for personal or classroom use; see [`LICENSE.md`](https://github.com/squillero/computational-intelligence/blob/master/LICENSE.md) for details.  \n"
   ]
  },
  {
   "cell_type": "markdown",
   "metadata": {
    "pycharm": {
     "name": "#%%\n"
    }
   },
   "source": [
    "# Lab 3: Policy Search\n",
    "\n",
    "## Task\n",
    "\n",
    "Write agents able to play [*Nim*](https://en.wikipedia.org/wiki/Nim), with an arbitrary number of rows and an upper bound $k$ on the number of objects that can be removed in a turn (a.k.a., *subtraction game*).\n",
    "\n",
    "The player **taking the last object wins**.\n",
    "\n",
    "* Task3.1: An agent using fixed rules based on *nim-sum* (i.e., an *expert system*)\n",
    "* Task3.2: An agent using evolved rules\n",
    "* Task3.3: An agent using minmax\n",
    "* Task3.4: An agent using reinforcement learning\n",
    "\n",
    "## Instructions\n",
    "\n",
    "* Create the directory `lab3` inside the course repo \n",
    "* Put a `README.md` and your solution (all the files, code and auxiliary data if needed)\n"
   ]
  },
  {
   "cell_type": "code",
   "execution_count": 4,
   "metadata": {},
   "outputs": [],
   "source": [
    "import logging\n",
    "from collections import namedtuple\n",
    "import random\n",
    "from typing import Callable\n",
    "from copy import deepcopy\n",
    "from itertools import accumulate\n",
    "from operator import xor"
   ]
  },
  {
   "cell_type": "markdown",
   "metadata": {},
   "source": [
    "## The *Nim* and *Nimply* classes"
   ]
  },
  {
   "cell_type": "code",
   "execution_count": 5,
   "metadata": {},
   "outputs": [],
   "source": [
    "Nimply = namedtuple(\"Nimply\", \"row, num_objects\")"
   ]
  },
  {
   "cell_type": "code",
   "execution_count": 6,
   "metadata": {},
   "outputs": [],
   "source": [
    "class Nim:\n",
    "    def __init__(self, num_rows: int, k: int = None) -> None:\n",
    "        self._rows = [i * 2 + 1 for i in range(num_rows)]\n",
    "        self._k = k\n",
    "\n",
    "    def __bool__(self):\n",
    "        return sum(self._rows) > 0\n",
    "\n",
    "    def __str__(self):\n",
    "        return \"<\" + \" \".join(str(_) for _ in self._rows) + \">\"\n",
    "\n",
    "    @property\n",
    "    def rows(self) -> tuple:\n",
    "        return tuple(self._rows)\n",
    "\n",
    "    @property\n",
    "    def k(self) -> int:\n",
    "        return self._k\n",
    "\n",
    "    def nimming(self, ply: Nimply) -> None:\n",
    "        row, num_objects = ply\n",
    "        assert self._rows[row] >= num_objects\n",
    "        assert self._k is None or num_objects <= self._k\n",
    "        self._rows[row] -= num_objects"
   ]
  },
  {
   "cell_type": "markdown",
   "metadata": {},
   "source": [
    "## Sample (and silly) startegies [HARDCODED]"
   ]
  },
  {
   "cell_type": "code",
   "execution_count": 7,
   "metadata": {},
   "outputs": [],
   "source": [
    "#Global variable for semplicity\n",
    "turn = 0\n",
    "\n",
    "\n",
    "def fast(state: Nim) -> Nimply:\n",
    "    \"\"\"\n",
    "        Take the max elements if its turn is its even one otherwise it will take one random element\n",
    "    \"\"\"\n",
    "    if (turn // 2)%2 == 0:\n",
    "        #Take max from the row with most elements\n",
    "\n",
    "        max_val = max(state.rows)\n",
    "        index = 0\n",
    "\n",
    "        #Search the max\n",
    "        for row, elements in enumerate(state.rows):\n",
    "            if elements == max_val:\n",
    "                index = row\n",
    "                break\n",
    "\n",
    "        row = index\n",
    "\n",
    "        if state.k is None:\n",
    "            num_objects = state.rows[row]\n",
    "        else:\n",
    "            if state.rows[row] > state.k:\n",
    "                num_objects = state.k\n",
    "            else: \n",
    "                num_objects = state.rows[row]\n",
    "    else:\n",
    "        #Take 1 single element from a random row\n",
    "        \n",
    "        row = random.choice([r for r, c in enumerate(state.rows) if c > 0])\n",
    "        num_objects = 1\n",
    "    return Nimply(row, num_objects)"
   ]
  },
  {
   "cell_type": "code",
   "execution_count": 8,
   "metadata": {},
   "outputs": [],
   "source": [
    "def nim_sum(state: Nim) -> int:\n",
    "    *_, result = accumulate(state.rows, xor)\n",
    "    return result\n",
    "\n",
    "def cook_status(state: Nim) -> dict:\n",
    "    cooked = dict()\n",
    "    cooked[\"possible_moves\"] = [\n",
    "        (r, o) for r, c in enumerate(state.rows) for o in range(1, c + 1) if state.k is None or o <= state.k\n",
    "    ]\n",
    "    cooked[\"active_rows_number\"] = sum(o > 0 for o in state.rows)\n",
    "    cooked[\"active_rows\"] = [r for r,o in enumerate(state.rows) if o > 0]\n",
    "    cooked[\"shortest_row\"] = min((x for x in enumerate(state.rows) if x[1] > 0), key=lambda y: y[1])[0]\n",
    "    cooked[\"longest_row\"] = max((x for x in enumerate(state.rows)), key=lambda y: y[1])[0]\n",
    "    cooked[\"nim_sum\"] = nim_sum(state)\n",
    "\n",
    "    brute_force = list()\n",
    "    for m in cooked[\"possible_moves\"]:\n",
    "        tmp = deepcopy(state)\n",
    "        tmp.nimming(m)\n",
    "        brute_force.append((m, nim_sum(tmp)))\n",
    "    cooked[\"brute_force\"] = brute_force\n",
    "\n",
    "    return cooked"
   ]
  },
  {
   "cell_type": "code",
   "execution_count": 9,
   "metadata": {},
   "outputs": [],
   "source": [
    "def optimal_startegy(state: Nim) -> Nimply:\n",
    "    data = cook_status(state)\n",
    "    return next((bf for bf in data[\"brute_force\"] if bf[1] == 0), random.choice(data[\"brute_force\"]))[0]"
   ]
  },
  {
   "cell_type": "markdown",
   "metadata": {},
   "source": [
    "## Set of Strategy modules (Genes)"
   ]
  },
  {
   "cell_type": "code",
   "execution_count": 10,
   "metadata": {},
   "outputs": [],
   "source": [
    "class FunctionModule():\n",
    "    \"\"\" \n",
    "        A wrapper for managing function properly.\n",
    "        A Module can contain different functions, and recieve a single set of arguments.\n",
    "        Functions in the module need to work on the same data, passed as argument in the\n",
    "        creation of the module.\n",
    "\n",
    "        The management of args is left to the user, when implementing new functions\n",
    "    \"\"\"\n",
    "\n",
    "    def __init__(self, *args) -> None:\n",
    "        self.args: tuple=args\n",
    "        self.num_functions = 0\n",
    "        self.functs: list[Callable] = list()\n",
    "    \n",
    "    def __getitem__(self, i):\n",
    "        return self.functs[i]\n",
    "\n",
    "    def __len__(self):\n",
    "        return self.num_functions\n",
    "\n",
    "    #def __iter__(self):\n",
    "    #    return self\n",
    "    \n",
    "    #def __next__(self):\n",
    "        \n",
    "    def add_func(self, functs: list[Callable]):\n",
    "        self.num_functions += len(functs)\n",
    "        for f in functs:\n",
    "            self.functs.append(f) "
   ]
  },
  {
   "cell_type": "code",
   "execution_count": 11,
   "metadata": {},
   "outputs": [],
   "source": [
    "\n",
    "#ROW MODULES\n",
    "def _from_longest_row(state: Nim):\n",
    "    data = cook_status(state)\n",
    "    return data[\"longest_row\"]\n",
    "\n",
    "def _from_shortes_row(state: Nim):\n",
    "    data = cook_status(state)\n",
    "    return data[\"shortest_row\"]\n",
    "\n",
    "def _from_previous_row(state: Nim):\n",
    "    pass\n",
    "\n",
    "def _from_same_opponent_row(state: Nim):\n",
    "    pass\n",
    " \n",
    "def _from_top_row(state: Nim):\n",
    "    pass\n",
    "\n",
    "def _from_rand_row(state: Nim):\n",
    "    data = cook_status(state)\n",
    "    return random.choice(data[\"active_row\"])\n",
    "\n",
    "row_functions = [_from_longest_row, _from_shortes_row,\n",
    "            _from_previous_row, _from_same_opponent_row,\n",
    "            _from_top_row, _from_rand_row]\n",
    "    \n",
    "\n",
    "#OBJECT MODULES\n",
    "def _single():\n",
    "    return 1\n",
    "\n",
    "def _double():\n",
    "    return 2\n",
    "\n",
    "def _random(objects, k):\n",
    "    random.randint(1, objects)\n",
    "\n",
    "def _max():\n",
    "    pass\n",
    "\n",
    "def _k_less_1():\n",
    "    pass\n",
    "\n",
    "def _same_as_opponent():\n",
    "    pass\n",
    "\n",
    "def _same_as_previous():\n",
    "    pass\n",
    "\n",
    "obj_functions = [_single, _double, _random, _max, _k_less_1, _same_as_opponent, _same_as_previous]\n",
    "\n",
    "\n",
    "def set_prob(self, prob_to_change: int, new_prob: float=None, add: float=None):\n",
    "\n",
    "    if new_prob is not None and add is None:\n",
    "        self.probs[prob_to_change] = new_prob\n",
    "\n",
    "    if add is not None and new_prob is None:\n",
    "        self.probs[prob_to_change] += add\n",
    "\n"
   ]
  },
  {
   "cell_type": "code",
   "execution_count": 12,
   "metadata": {},
   "outputs": [],
   "source": [
    "row_f_len = len(row_functions)\n",
    "obj_f_len = len(obj_functions)\n",
    "\n",
    "class Individual:\n",
    "\n",
    "    def __init__(self, genome: tuple(), fitness: float= None) -> None:\n",
    "        assert len(genome) == 2, \"Genome is not a tuple length 2\"\n",
    "        self.probs_row = genome[0]\n",
    "        self.probs_obj = genome[1]\n",
    "        RL = len(self.probs_row)\n",
    "        OL = len(self.probs_obj)\n",
    "        self.events = range(0,RL), range(0,OL)\n",
    "\n",
    "    def _choose_row_function(self) -> int:\n",
    "        return random.choices(self.events[0], weights=self.probs_row, k=1)\n",
    "\n",
    "    def _choose_obj_function(self) -> int:\n",
    "        return random.choices(self.events[1], weights=self.probs_obj, k=1)\n",
    "\n",
    "    def get_functions_indexes(self) -> tuple:\n",
    "        obj = self._choose_obj_function()\n",
    "        row = self._choose_row_function()\n",
    "        return row, obj\n",
    "\n",
    "   \n",
    "            "
   ]
  },
  {
   "cell_type": "code",
   "execution_count": 13,
   "metadata": {},
   "outputs": [
    {
     "data": {
      "text/plain": [
       "6"
      ]
     },
     "execution_count": 13,
     "metadata": {},
     "output_type": "execute_result"
    }
   ],
   "source": [
    "row_f_len"
   ]
  },
  {
   "cell_type": "code",
   "execution_count": 14,
   "metadata": {},
   "outputs": [
    {
     "name": "stdout",
     "output_type": "stream",
     "text": [
      "[0] [3]\n",
      "[2] [0]\n",
      "[5] [3]\n",
      "[3] [4]\n",
      "[1] [3]\n",
      "[3] [0]\n",
      "[1] [0]\n",
      "[2] [0]\n",
      "[3] [3]\n",
      "[0] [3]\n"
     ]
    }
   ],
   "source": [
    "#TEST\n",
    "pr = random.choices(range(0,row_f_len), k=row_f_len)\n",
    "pr = [p/sum(pr) for p in pr]\n",
    "po = random.choices(range(0,obj_f_len), k=obj_f_len)\n",
    "po = [p/sum(po) for p in po]\n",
    "\n",
    "ind = Individual(genome=(pr,po))\n",
    "\n",
    "for i in range(10):\n",
    "    r,o = ind.get_functions_indexes()\n",
    "    print(r, o)"
   ]
  },
  {
   "cell_type": "code",
   "execution_count": 15,
   "metadata": {},
   "outputs": [],
   "source": [
    "def create_random_inds(num_inds):\n",
    "    inds = list()\n",
    "    for i in range(num_inds):   \n",
    "        pr = random.choices(range(0,row_f_len), k=row_f_len)\n",
    "        pr = [p/sum(pr) for p in pr]\n",
    "        po = random.choices(range(0,obj_f_len), k=obj_f_len)\n",
    "        po = [p/sum(po) for p in po] \n",
    "        inds.append(Individual(genome=(pr,po)))\n",
    "    return inds\n",
    "\n",
    "pop = create_random_inds(20)\n"
   ]
  },
  {
   "cell_type": "code",
   "execution_count": 16,
   "metadata": {},
   "outputs": [],
   "source": [
    "def make_strategy(genome: dict) -> Callable:\n",
    "    \n",
    "    def evolvable(state: Nim) -> Nimply:\n",
    "        data = cook_status(state)\n",
    "\n",
    "        if random.random() < genome[\"p\"]:\n",
    "            ply = Nimply(data[\"shortest_row\"], random.randint(1, state.rows[data[\"shortest_row\"]]))\n",
    "        else:\n",
    "            ply = Nimply(data[\"longest_row\"], random.randint(1, state.rows[data[\"longest_row\"]]))\n",
    "\n",
    "        return ply\n",
    "\n",
    "    return evolvable"
   ]
  },
  {
   "cell_type": "code",
   "execution_count": 17,
   "metadata": {},
   "outputs": [],
   "source": [
    "NUM_MATCHES = 10\n",
    "NIM_SIZE = 10\n",
    "\n",
    "def evaluate(strategy: Callable) -> float:\n",
    "    opponent = (strategy, optimal_startegy)\n",
    "    won = 0\n",
    "\n",
    "    for m in range(NUM_MATCHES):\n",
    "        nim = Nim(NIM_SIZE)\n",
    "        player = 0\n",
    "        while nim:\n",
    "            ply = opponent[player](nim)\n",
    "            nim.nimming(ply)\n",
    "            player = 1 - player\n",
    "        if player == 1:\n",
    "            won += 1\n",
    "    return won / NUM_MATCHES"
   ]
  },
  {
   "cell_type": "code",
   "execution_count": 18,
   "metadata": {},
   "outputs": [
    {
     "data": {
      "text/plain": [
       "0.0"
      ]
     },
     "execution_count": 18,
     "metadata": {},
     "output_type": "execute_result"
    }
   ],
   "source": [
    "evaluate(make_strategy({\"p\": 0.2}))"
   ]
  },
  {
   "cell_type": "markdown",
   "metadata": {},
   "source": [
    "## Oversimplified match"
   ]
  },
  {
   "cell_type": "code",
   "execution_count": 19,
   "metadata": {},
   "outputs": [
    {
     "name": "stderr",
     "output_type": "stream",
     "text": [
      "DEBUG:root:status: Initial board  -> <1 3 5 7 9 11 13 15 17 19 21>\n",
      "DEBUG:root:[0] - status: After player 0 -> <1 3 5 7 9 11 13 15 17 19 0>\n",
      "DEBUG:root:[1] - status: After player 1 -> <1 1 5 7 9 11 13 15 17 19 0>\n",
      "DEBUG:root:[2] - status: After player 0 -> <1 1 5 7 8 11 13 15 17 19 0>\n",
      "DEBUG:root:[3] - status: After player 1 -> <0 1 5 7 8 11 13 15 17 19 0>\n",
      "DEBUG:root:[4] - status: After player 0 -> <0 1 5 7 8 11 13 15 17 0 0>\n",
      "DEBUG:root:[5] - status: After player 1 -> <0 1 5 7 8 11 13 15 2 0 0>\n",
      "DEBUG:root:[6] - status: After player 0 -> <0 1 5 6 8 11 13 15 2 0 0>\n",
      "DEBUG:root:[7] - status: After player 1 -> <0 0 5 6 8 11 13 15 2 0 0>\n",
      "DEBUG:root:[8] - status: After player 0 -> <0 0 5 6 8 11 13 0 2 0 0>\n",
      "DEBUG:root:[9] - status: After player 1 -> <0 0 5 6 7 11 13 0 2 0 0>\n",
      "DEBUG:root:[10] - status: After player 0 -> <0 0 5 5 7 11 13 0 2 0 0>\n",
      "DEBUG:root:[11] - status: After player 1 -> <0 0 5 5 4 11 13 0 2 0 0>\n",
      "DEBUG:root:[12] - status: After player 0 -> <0 0 5 5 4 11 0 0 2 0 0>\n",
      "DEBUG:root:[13] - status: After player 1 -> <0 0 5 5 4 6 0 0 2 0 0>\n",
      "DEBUG:root:[14] - status: After player 0 -> <0 0 5 4 4 6 0 0 2 0 0>\n",
      "DEBUG:root:[15] - status: After player 1 -> <0 0 4 4 4 6 0 0 2 0 0>\n",
      "DEBUG:root:[16] - status: After player 0 -> <0 0 4 4 4 0 0 0 2 0 0>\n",
      "DEBUG:root:[17] - status: After player 1 -> <0 0 2 4 4 0 0 0 2 0 0>\n",
      "DEBUG:root:[18] - status: After player 0 -> <0 0 2 4 4 0 0 0 1 0 0>\n",
      "DEBUG:root:[19] - status: After player 1 -> <0 0 1 4 4 0 0 0 1 0 0>\n",
      "DEBUG:root:[20] - status: After player 0 -> <0 0 1 0 4 0 0 0 1 0 0>\n",
      "DEBUG:root:[21] - status: After player 1 -> <0 0 1 0 0 0 0 0 1 0 0>\n",
      "DEBUG:root:[22] - status: After player 0 -> <0 0 0 0 0 0 0 0 1 0 0>\n",
      "DEBUG:root:[23] - status: After player 1 -> <0 0 0 0 0 0 0 0 0 0 0>\n",
      "INFO:root:status: Player 1 won!\n"
     ]
    }
   ],
   "source": [
    "logging.getLogger().setLevel(logging.DEBUG)\n",
    "\n",
    "strategy = (make_strategy({\"p\": 0.5}), optimal_startegy)\n",
    "strategy = (fast, optimal_startegy)\n",
    "\n",
    "nim = Nim(11)\n",
    "logging.debug(f\"status: Initial board  -> {nim}\")\n",
    "player = 0\n",
    "\n",
    "turn = 0\n",
    "while nim:\n",
    "    ply = strategy[player](nim)\n",
    "    nim.nimming(ply)\n",
    "    logging.debug(f\"[{turn}] - status: After player {player} -> {nim}\")\n",
    "    player = 1 - player\n",
    "    turn += 1\n",
    "winner = 1 - player\n",
    "logging.info(f\"status: Player {winner} won!\")"
   ]
  },
  {
   "cell_type": "code",
   "execution_count": 20,
   "metadata": {},
   "outputs": [
    {
     "ename": "NameError",
     "evalue": "name 'data' is not defined",
     "output_type": "error",
     "traceback": [
      "\u001b[1;31m---------------------------------------------------------------------------\u001b[0m",
      "\u001b[1;31mNameError\u001b[0m                                 Traceback (most recent call last)",
      "Cell \u001b[1;32mIn[20], line 1\u001b[0m\n\u001b[1;32m----> 1\u001b[0m data\n",
      "\u001b[1;31mNameError\u001b[0m: name 'data' is not defined"
     ]
    }
   ],
   "source": [
    "data"
   ]
  }
 ],
 "metadata": {
  "kernelspec": {
   "display_name": "Python 3.10.8 64-bit (microsoft store)",
   "language": "python",
   "name": "python3"
  },
  "language_info": {
   "codemirror_mode": {
    "name": "ipython",
    "version": 3
   },
   "file_extension": ".py",
   "mimetype": "text/x-python",
   "name": "python",
   "nbconvert_exporter": "python",
   "pygments_lexer": "ipython3",
   "version": "3.10.8"
  },
  "vscode": {
   "interpreter": {
    "hash": "12bacb19619b0d7f9afdf185f611b604bd918747e38ed48a19e12a1e72143883"
   }
  }
 },
 "nbformat": 4,
 "nbformat_minor": 2
}
