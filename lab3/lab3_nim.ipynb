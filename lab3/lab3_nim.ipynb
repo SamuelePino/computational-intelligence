{
<<<<<<< HEAD
 "cells": [
  {
   "cell_type": "markdown",
   "metadata": {
    "pycharm": {
     "name": "#%% md\n"
    }
   },
   "source": [
    "Copyright **`(c)`** 2022 Giovanni Squillero `<squillero@polito.it>`  \n",
    "[`https://github.com/squillero/computational-intelligence`](https://github.com/squillero/computational-intelligence)  \n",
    "Free for personal or classroom use; see [`LICENSE.md`](https://github.com/squillero/computational-intelligence/blob/master/LICENSE.md) for details.  \n"
   ]
  },
  {
   "cell_type": "markdown",
   "metadata": {
    "pycharm": {
     "name": "#%%\n"
    }
   },
   "source": [
    "# Lab 3: Policy Search\n",
    "\n",
    "## Task\n",
    "\n",
    "Write agents able to play [*Nim*](https://en.wikipedia.org/wiki/Nim), with an arbitrary number of rows and an upper bound $k$ on the number of objects that can be removed in a turn (a.k.a., *subtraction game*).\n",
    "\n",
    "The player **taking the last object wins**.\n",
    "\n",
    "* Task3.1: An agent using fixed rules based on *nim-sum* (i.e., an *expert system*)\n",
    "* Task3.2: An agent using evolved rules\n",
    "* Task3.3: An agent using minmax\n",
    "* Task3.4: An agent using reinforcement learning\n",
    "\n",
    "## Instructions\n",
    "\n",
    "* Create the directory `lab3` inside the course repo \n",
    "* Put a `README.md` and your solution (all the files, code and auxiliary data if needed)\n"
   ]
  },
  {
   "cell_type": "code",
   "execution_count": 2,
   "metadata": {},
   "outputs": [],
   "source": [
    "import logging\n",
    "from collections import namedtuple\n",
    "import random\n",
    "from typing import Callable\n",
    "from copy import deepcopy\n",
    "from itertools import accumulate\n",
    "from operator import xor"
   ]
  },
  {
   "cell_type": "markdown",
   "metadata": {},
   "source": [
    "## The *Nim* and *Nimply* classes"
   ]
  },
  {
   "cell_type": "code",
   "execution_count": 3,
   "metadata": {},
   "outputs": [],
   "source": [
    "Nimply = namedtuple(\"Nimply\", \"row, num_objects\")"
   ]
  },
  {
   "cell_type": "code",
   "execution_count": 4,
   "metadata": {},
   "outputs": [],
   "source": [
    "class Nim:\n",
    "    def __init__(self, num_rows: int, k: int = None) -> None:\n",
    "        self._rows = [i * 2 + 1 for i in range(num_rows)]\n",
    "        self._k = k\n",
    "\n",
    "    def __bool__(self):\n",
    "        return sum(self._rows) > 0\n",
    "\n",
    "    def __str__(self):\n",
    "        return \"<\" + \" \".join(str(_) for _ in self._rows) + \">\"\n",
    "\n",
    "    @property\n",
    "    def rows(self) -> tuple:\n",
    "        return tuple(self._rows)\n",
    "\n",
    "    @property\n",
    "    def k(self) -> int:\n",
    "        return self._k\n",
    "\n",
    "    def nimming(self, ply: Nimply) -> None:\n",
    "        row, num_objects = ply\n",
    "        assert self._rows[row] >= num_objects\n",
    "        assert self._k is None or num_objects <= self._k\n",
    "        self._rows[row] -= num_objects"
   ]
  },
  {
   "cell_type": "markdown",
   "metadata": {},
   "source": [
    "## Sample (and silly) startegies [HARDCODED]"
   ]
  },
  {
   "cell_type": "code",
   "execution_count": 38,
   "metadata": {},
   "outputs": [],
   "source": [
    "#Global variable for semplicity\n",
    "turn = 0\n",
    "\n",
    "\n",
    "def fast(state: Nim) -> Nimply:\n",
    "    \"\"\"\n",
    "    Take the max elements if its turn is its even one otherwise it will take one random element\n",
    "    \"\"\"\n",
    "    if (turn // 2)%2 == 0:\n",
    "        #Take max from the row with most elements\n",
    "\n",
    "        max_val = max(state.rows)\n",
    "        index = 0\n",
    "\n",
    "        #Search the max\n",
    "        for row, elements in enumerate(state.rows):\n",
    "            if elements == max_val:\n",
    "                index = row\n",
    "                break\n",
    "\n",
    "        row = index\n",
    "\n",
    "        if state.k is None:\n",
    "            num_objects = state.rows[row]\n",
    "        else:\n",
    "            if state.rows[row] > state.k:\n",
    "                num_objects = state.k\n",
    "            else: \n",
    "                num_objects = state.rows[row]\n",
    "    else:\n",
    "        #Take 1 single element from a random row\n",
    "        \n",
    "        row = random.choice([r for r, c in enumerate(state.rows) if c > 0])\n",
    "        num_objects = 1\n",
    "    return Nimply(row, num_objects)"
   ]
  },
  {
   "cell_type": "code",
   "execution_count": 9,
   "metadata": {},
   "outputs": [],
   "source": [
    "def nim_sum(state: Nim) -> int:\n",
    "    *_, result = accumulate(state.rows, xor)\n",
    "    return result\n",
    "\n",
    "def cook_status(state: Nim) -> dict:\n",
    "    cooked = dict()\n",
    "    cooked[\"possible_moves\"] = [\n",
    "        (r, o) for r, c in enumerate(state.rows) for o in range(1, c + 1) if state.k is None or o <= state.k\n",
    "    ]\n",
    "    cooked[\"active_rows_number\"] = sum(o > 0 for o in state.rows)\n",
    "    cooked[\"shortest_row\"] = min((x for x in enumerate(state.rows) if x[1] > 0), key=lambda y: y[1])[0]\n",
    "    cooked[\"longest_row\"] = max((x for x in enumerate(state.rows)), key=lambda y: y[1])[0]\n",
    "    cooked[\"nim_sum\"] = nim_sum(state)\n",
    "\n",
    "    brute_force = list()\n",
    "    for m in cooked[\"possible_moves\"]:\n",
    "        tmp = deepcopy(state)\n",
    "        tmp.nimming(m)\n",
    "        brute_force.append((m, nim_sum(tmp)))\n",
    "    cooked[\"brute_force\"] = brute_force\n",
    "\n",
    "    return cooked"
   ]
  },
  {
   "cell_type": "code",
   "execution_count": 10,
   "metadata": {},
   "outputs": [],
   "source": [
    "def optimal_startegy(state: Nim) -> Nimply:\n",
    "    data = cook_status(state)\n",
    "    return next((bf for bf in data[\"brute_force\"] if bf[1] == 0), random.choice(data[\"brute_force\"]))[0]"
   ]
  },
  {
   "cell_type": "code",
   "execution_count": 11,
   "metadata": {},
   "outputs": [],
   "source": [
    "def make_strategy(genome: dict) -> Callable:\n",
    "    def evolvable(state: Nim) -> Nimply:\n",
    "        data = cook_status(state)\n",
    "\n",
    "        if random.random() < genome[\"p\"]:\n",
    "            ply = Nimply(data[\"shortest_row\"], random.randint(1, state.rows[data[\"shortest_row\"]]))\n",
    "        else:\n",
    "            ply = Nimply(data[\"longest_row\"], random.randint(1, state.rows[data[\"longest_row\"]]))\n",
    "\n",
    "        return ply\n",
    "\n",
    "    return evolvable"
   ]
  },
  {
   "cell_type": "code",
   "execution_count": 34,
   "metadata": {},
   "outputs": [],
   "source": [
    "NUM_MATCHES = 10\n",
    "NIM_SIZE = 10\n",
    "\n",
    "\n",
    "def evaluate(strategy: Callable) -> float:\n",
    "    opponent = (strategy, optimal_startegy)\n",
    "    won = 0\n",
    "\n",
    "    for m in range(NUM_MATCHES):\n",
    "        nim = Nim(NIM_SIZE)\n",
    "        player = 0\n",
    "        while nim:\n",
    "            ply = opponent[player](nim)\n",
    "            nim.nimming(ply)\n",
    "            player = 1 - player\n",
    "        if player == 1:\n",
    "            won += 1\n",
    "    return won / NUM_MATCHES"
   ]
  },
  {
   "cell_type": "code",
   "execution_count": 35,
   "metadata": {},
   "outputs": [
    {
     "data": {
      "text/plain": [
       "0.0"
      ]
     },
     "execution_count": 35,
     "metadata": {},
     "output_type": "execute_result"
    }
   ],
   "source": [
    "evaluate(make_strategy({\"p\": 0.9999}))"
   ]
  },
  {
   "cell_type": "markdown",
   "metadata": {},
   "source": [
    "## Oversimplified match"
   ]
  },
  {
   "cell_type": "code",
   "execution_count": 36,
   "metadata": {},
   "outputs": [
    {
     "name": "stderr",
     "output_type": "stream",
     "text": [
      "DEBUG:root:status: Initial board  -> <1 3 5 7 9 11 13 15 17 19 21>\n",
      "DEBUG:root:[0] - status: After player 0 -> <1 3 5 7 9 11 13 15 17 19 0>\n",
      "DEBUG:root:[1] - status: After player 1 -> <1 1 5 7 9 11 13 15 17 19 0>\n",
      "DEBUG:root:[2] - status: After player 0 -> <0 1 5 7 9 11 13 15 17 19 0>\n",
      "DEBUG:root:[3] - status: After player 1 -> <0 0 5 7 9 11 13 15 17 19 0>\n",
      "DEBUG:root:[4] - status: After player 0 -> <0 0 5 7 9 11 13 15 17 0 0>\n",
      "DEBUG:root:[5] - status: After player 1 -> <0 0 5 7 9 11 13 15 2 0 0>\n",
      "DEBUG:root:[6] - status: After player 0 -> <0 0 5 7 9 11 13 14 2 0 0>\n",
      "DEBUG:root:[7] - status: After player 1 -> <0 0 4 7 9 11 13 14 2 0 0>\n",
      "DEBUG:root:[8] - status: After player 0 -> <0 0 4 7 9 11 13 0 2 0 0>\n",
      "DEBUG:root:[9] - status: After player 1 -> <0 0 4 7 7 11 13 0 2 0 0>\n",
      "DEBUG:root:[10] - status: After player 0 -> <0 0 4 7 7 11 13 0 1 0 0>\n",
      "DEBUG:root:[11] - status: After player 1 -> <0 0 4 4 7 11 13 0 1 0 0>\n",
      "DEBUG:root:[12] - status: After player 0 -> <0 0 4 4 7 11 0 0 1 0 0>\n",
      "DEBUG:root:[13] - status: After player 1 -> <0 0 4 4 7 6 0 0 1 0 0>\n",
      "DEBUG:root:[14] - status: After player 0 -> <0 0 4 4 7 5 0 0 1 0 0>\n",
      "DEBUG:root:[15] - status: After player 1 -> <0 0 4 4 4 5 0 0 1 0 0>\n",
      "DEBUG:root:[16] - status: After player 0 -> <0 0 4 4 4 0 0 0 1 0 0>\n",
      "DEBUG:root:[17] - status: After player 1 -> <0 0 1 4 4 0 0 0 1 0 0>\n",
      "DEBUG:root:[18] - status: After player 0 -> <0 0 0 4 4 0 0 0 1 0 0>\n",
      "DEBUG:root:[19] - status: After player 1 -> <0 0 0 4 4 0 0 0 0 0 0>\n",
      "DEBUG:root:[20] - status: After player 0 -> <0 0 0 0 4 0 0 0 0 0 0>\n",
      "DEBUG:root:[21] - status: After player 1 -> <0 0 0 0 0 0 0 0 0 0 0>\n",
      "INFO:root:status: Player 1 won!\n"
     ]
    }
   ],
   "source": [
    "logging.getLogger().setLevel(logging.DEBUG)\n",
    "\n",
    "strategy = (make_strategy({\"p\": 0.5}), optimal_startegy)\n",
    "strategy = (fast, optimal_startegy)\n",
    "\n",
    "nim = Nim(11)\n",
    "logging.debug(f\"status: Initial board  -> {nim}\")\n",
    "player = 0\n",
    "\n",
    "turn = 0\n",
    "while nim:\n",
    "    ply = strategy[player](nim)\n",
    "    nim.nimming(ply)\n",
    "    logging.debug(f\"[{turn}] - status: After player {player} -> {nim}\")\n",
    "    player = 1 - player\n",
    "    turn += 1\n",
    "winner = 1 - player\n",
    "logging.info(f\"status: Player {winner} won!\")"
   ]
  },
  {
   "cell_type": "code",
   "execution_count": 31,
   "metadata": {},
   "outputs": [
    {
     "ename": "SyntaxError",
     "evalue": "unmatched ')' (1195981134.py, line 1)",
     "output_type": "error",
     "traceback": [
      "\u001b[1;36m  Cell \u001b[1;32mIn[31], line 1\u001b[1;36m\u001b[0m\n\u001b[1;33m    nim.rows.sort())\u001b[0m\n\u001b[1;37m                   ^\u001b[0m\n\u001b[1;31mSyntaxError\u001b[0m\u001b[1;31m:\u001b[0m unmatched ')'\n"
     ]
    }
   ],
   "source": []
  }
 ],
 "metadata": {
  "kernelspec": {
   "display_name": "Python 3.10.8 64-bit (microsoft store)",
   "language": "python",
   "name": "python3"
  },
  "language_info": {
   "codemirror_mode": {
    "name": "ipython",
    "version": 3
   },
   "file_extension": ".py",
   "mimetype": "text/x-python",
   "name": "python",
   "nbconvert_exporter": "python",
   "pygments_lexer": "ipython3",
   "version": "3.10.9 (tags/v3.10.9:1dd9be6, Dec  6 2022, 20:01:21) [MSC v.1934 64 bit (AMD64)]"
  },
  "vscode": {
   "interpreter": {
    "hash": "12bacb19619b0d7f9afdf185f611b604bd918747e38ed48a19e12a1e72143883"
   }
  }
 },
 "nbformat": 4,
 "nbformat_minor": 2
}
=======
  "cells": [
    {
      "cell_type": "markdown",
      "metadata": {
        "id": "view-in-github",
        "colab_type": "text"
      },
      "source": [
        "<a href=\"https://colab.research.google.com/github/SamuelePino/computational-intelligence/blob/main/lab3/lab3_nim.ipynb\" target=\"_parent\"><img src=\"https://colab.research.google.com/assets/colab-badge.svg\" alt=\"Open In Colab\"/></a>"
      ]
    },
    {
      "cell_type": "markdown",
      "metadata": {
        "pycharm": {
          "name": "#%% md\n"
        },
        "id": "wO9v5bIRKCNi"
      },
      "source": [
        "Copyright **`(c)`** 2022 Giovanni Squillero `<squillero@polito.it>`  \n",
        "[`https://github.com/squillero/computational-intelligence`](https://github.com/squillero/computational-intelligence)  \n",
        "Free for personal or classroom use; see [`LICENSE.md`](https://github.com/squillero/computational-intelligence/blob/master/LICENSE.md) for details.  \n"
      ]
    },
    {
      "cell_type": "markdown",
      "metadata": {
        "pycharm": {
          "name": "#%%\n"
        },
        "id": "9Ny2pjvNKCNj"
      },
      "source": [
        "# Lab 3: Policy Search\n",
        "\n",
        "## Task\n",
        "\n",
        "Write agents able to play [*Nim*](https://en.wikipedia.org/wiki/Nim), with an arbitrary number of rows and an upper bound $k$ on the number of objects that can be removed in a turn (a.k.a., *subtraction game*).\n",
        "\n",
        "The player **taking the last object wins**.\n",
        "\n",
        "* Task3.1: An agent using fixed rules based on *nim-sum* (i.e., an *expert system*)\n",
        "* Task3.2: An agent using evolved rules\n",
        "* Task3.3: An agent using minmax\n",
        "* Task3.4: An agent using reinforcement learning\n",
        "\n",
        "## Instructions\n",
        "\n",
        "* Create the directory `lab3` inside the course repo \n",
        "* Put a `README.md` and your solution (all the files, code and auxiliary data if needed)\n",
        "\n",
        "## Notes\n",
        "\n",
        "* Working in group is not only allowed, but recommended (see: [Ubuntu](https://en.wikipedia.org/wiki/Ubuntu_philosophy) and [Cooperative Learning](https://files.eric.ed.gov/fulltext/EJ1096789.pdf)). Collaborations must be explicitly declared in the `README.md`.\n",
        "* [Yanking](https://www.emacswiki.org/emacs/KillingAndYanking) from the internet is allowed, but sources must be explicitly declared in the `README.md`.\n",
        "\n",
        "**Deadline**\n",
        "\n",
        "T.b.d.\n"
      ]
    },
    {
      "cell_type": "code",
      "execution_count": null,
      "metadata": {
        "id": "DOu3PshoKCNj"
      },
      "outputs": [],
      "source": [
        "import logging\n",
        "import random\n",
        "import numpy as np\n",
        "import functools\n",
        "from typing import Callable\n",
        "from itertools import accumulate\n",
        "from operator import xor"
      ]
    },
    {
      "cell_type": "markdown",
      "metadata": {
        "id": "ym8RCox8KCNk"
      },
      "source": [
        "## NIM Game "
      ]
    },
    {
      "cell_type": "code",
      "execution_count": null,
      "metadata": {
        "id": "4aV6bwO5KCNk"
      },
      "outputs": [],
      "source": [
        "class Nim:\n",
        "    def __init__(self, num_rows: int, k: int = None) -> None:\n",
        "        self._rows = [i*2 + 1 for i in range(num_rows)]\n",
        "        self._k = k\n",
        "    \n",
        "    def __str__(self):\n",
        "        return f\"{self._rows}\"\n",
        "\n",
        "    def nimming(self, row: int, num_objects: int) -> None:\n",
        "        assert self._rows[row] >= num_objects\n",
        "        assert self._k is None or num_objects <= self._k\n",
        "        assert num_objects > 0, f\"You have to pick at least one\"\n",
        "        self._rows[row] -= num_objects\n",
        "        if sum(self._rows) == 0:\n",
        "            logging.debug(\"Yeuch\")"
      ]
    },
    {
      "cell_type": "code",
      "execution_count": null,
      "metadata": {
        "id": "T522kD2tKCNk"
      },
      "outputs": [],
      "source": [
        "def nim_sum(rows: list) -> int:\n",
        "    # List XOR\n",
        "    # Using reduce() + lambda + \"^\" operator\n",
        "    res = functools.reduce(lambda x, y: x ^ y, rows)\n",
        "    return res"
      ]
    },
    {
      "cell_type": "markdown",
      "metadata": {
        "id": "N9L_gSbsKCNl"
      },
      "source": [
        "## Task3.1: An agent using fixed rules based on *nim-sum* (i.e., an *expert system*)"
      ]
    },
    {
      "cell_type": "markdown",
      "metadata": {
        "id": "75aPhXNrKCNl"
      },
      "source": [
        "### Creating the NIM Table "
      ]
    },
    {
      "cell_type": "code",
      "execution_count": null,
      "metadata": {
        "id": "yl6rFPcBKCNl"
      },
      "outputs": [],
      "source": [
        "N_ROWS = 5\n",
        "GAMEOVER = [0 for _ in range(N_ROWS)]\n",
        "K = None\n",
        "\n",
        "Table = Nim(N_ROWS, K)\n"
      ]
    },
    {
      "cell_type": "markdown",
      "metadata": {
        "id": "uaUkyBCNKCNm"
      },
      "source": [
        "### Hardcoded Opponent:"
      ]
    },
    {
      "cell_type": "code",
      "execution_count": null,
      "metadata": {
        "id": "A5MkuvgPKCNm"
      },
      "outputs": [],
      "source": [
        "class Opponent:\n",
        "    def __init__(self, strategy = 'best') -> None:\n",
        "        \n",
        "        assert strategy in ['best', 'pure_random'], f\"Strategy non-available\"\n",
        "        self._strategy = strategy\n",
        "\n",
        "    def moves(self, Nim):\n",
        "        # The opponent choose randomly a non-empty row \n",
        "        nonzeroind = np.nonzero(Nim._rows)[0]\n",
        "        random_row = random.choice(nonzeroind)\n",
        "\n",
        "        # The opponen choose to remove a random number of elements\n",
        "        if Nim._k == None:\n",
        "            random_elements = random.randint(1,Nim._rows[random_row])\n",
        "        else:\n",
        "            random_elements = random.randint(1,min(Nim._k,Nim._rows[random_row]))\n",
        "\n",
        "        logging.debug(f\"Opponent:   <Row: {random_row}- Elements: {random_elements}>\")\n",
        "        # Update table\n",
        "        Nim.nimming(random_row, random_elements)\n",
        "\n",
        "        return\n"
      ]
    },
    {
      "cell_type": "markdown",
      "metadata": {
        "id": "lpnHjdonKCNm"
      },
      "source": [
        "### Agent:"
      ]
    },
    {
      "cell_type": "markdown",
      "metadata": {
        "id": "Bi4POubtKCNm"
      },
      "source": [
        "#### Winning strategy (Expert Agent)\n",
        "\n",
        "To understand the algorithm of the winning strategy, look at [*Nim*](https://en.wikipedia.org/wiki/Nim)!"
      ]
    },
    {
      "cell_type": "code",
      "execution_count": null,
      "metadata": {
        "id": "qH65x0WLKCNn"
      },
      "outputs": [],
      "source": [
        "class Agent:\n",
        "    def __init__(self, strategy = 'best') -> None:\n",
        "        # Two parts for the best strategy:\n",
        "        # 0 -> before all rows have one element\n",
        "        # 1 -> after all rows have one element\n",
        "        self._best_strategy = 0\n",
        "\n",
        "        assert strategy in ['best', 'pure_random'], f\"Strategy non-available\"\n",
        "        self._strategy = strategy\n",
        "\n",
        "    def moves(self, Nim):\n",
        "        if self._strategy == 'best':\n",
        "            return self.best_strategy(Nim)\n",
        "        return\n",
        "\n",
        "    def best_strategy(self, Nim):\n",
        "\n",
        "        # If all the elements are equal or less then k, we can play the 'normal' nim game\n",
        "        if Nim._k != None and all(v <= Nim._k for v in Nim._rows):\n",
        "            Nim._k = None\n",
        "\n",
        "\n",
        "        if Nim._k != None:\n",
        "            if all(v != 1 and v%(Nim._k+1) == 1 for v in Nim._rows):\n",
        "                Nim.nimming(random.randrange(0, len(Nim._rows)), self._k)\n",
        "                return\n",
        "            \n",
        "            equal_grater_than_k_ind = [i for i,v in enumerate(Nim._rows) if v >= Nim._k + 1]\n",
        "        \n",
        "            random_row = random.choice(equal_grater_than_k_ind)\n",
        "            elements = Nim._rows[random_row]%(Nim._k+1) \n",
        "            if elements == 0:\n",
        "                elements = 1\n",
        "            # Update table\n",
        "            Nim.nimming(random_row, elements)\n",
        "            return\n",
        "\n",
        "\n",
        "\n",
        "        # If there is only one element greater to one, the agent picks a number of object to make\n",
        "        # all the rows of the table equal to 1.\n",
        "        # He can choose to remove all the objects or all the objects but one from the rows with n>1\n",
        "        if sum(x >= 2 for x in Nim._rows) == 1:\n",
        "            # Row with more than one element\n",
        "            equal_grater_than_two_ind = [i for i,v in enumerate(Nim._rows) if v >= 2][0]\n",
        "\n",
        "            # Change of strategy\n",
        "            self._best_strategy = 1\n",
        "\n",
        "            \n",
        "            # To win, the remaing number of objects has to be even \n",
        "            if (sum(x for x in Nim._rows) - Nim._rows[equal_grater_than_two_ind]) % 2 == 0 :\n",
        "                logging.debug(f\"Agent:   <Row: {equal_grater_than_two_ind}- Elements: {Nim._rows[equal_grater_than_two_ind]}>\")\n",
        "                # Update table\n",
        "                Nim.nimming(equal_grater_than_two_ind, Nim._rows[equal_grater_than_two_ind])\n",
        "                \n",
        "            else:\n",
        "\n",
        "                logging.debug(f\"Agent:   <Row: {equal_grater_than_two_ind}- Elements: {Nim._rows[equal_grater_than_two_ind] - 1}>\")\n",
        "                # Update table\n",
        "                Nim.nimming(equal_grater_than_two_ind, Nim._rows[equal_grater_than_two_ind]-1)\n",
        "            \n",
        "            return\n",
        "        \n",
        "        # Strategy before all rows have one element\n",
        "        if self._best_strategy == 0:    \n",
        "        \n",
        "            res = nim_sum(Nim._rows)\n",
        "\n",
        "            for ind, row in enumerate(Nim._rows):\n",
        "\n",
        "                if row == 0:\n",
        "                    continue\n",
        "\n",
        "                if row ^ res < row:\n",
        "                    logging.debug(f\"Agent:  rows = {Nim._rows}\")\n",
        "                    elements = row - (row ^ res)\n",
        "                    logging.debug(f\"Agent:   xor = {row ^ res}\")\n",
        "                    logging.debug(f\"Agent:   <Row: {ind}- Elements: {elements}>\")\n",
        "                    # Update table\n",
        "                    Nim.nimming(ind, elements)\n",
        "\n",
        "                    return\n",
        "        \n",
        "        # Strategy after all rows have one element\n",
        "        else:\n",
        "\n",
        "            nonzeroind = np.nonzero(Nim._rows)[0]\n",
        "            random_row = random.choice(nonzeroind)\n",
        "\n",
        "\n",
        "            logging.debug(f\"Agent:   <Row:{random_row}- Elements: {1}>\")\n",
        "            # Update table\n",
        "            Nim.nimming(random_row, 1)       \n",
        "\n",
        "        return\n"
      ]
    },
    {
      "cell_type": "markdown",
      "metadata": {
        "id": "eGUtpaMJKCNn"
      },
      "source": [
        "### Single Match"
      ]
    },
    {
      "cell_type": "code",
      "execution_count": null,
      "metadata": {
        "id": "4gDmjsn5KCNn"
      },
      "outputs": [],
      "source": [
        "def single_match(agent_strategy = 'best'):\n",
        "    \n",
        "    agent = Agent(agent_strategy)\n",
        "    opponent = Opponent()\n",
        "\n",
        "    # 0 -> Agent's turn\n",
        "    # 1 -> Opponent's turn\n",
        "    turn = 1\n",
        "\n",
        "    # Game\n",
        "    while Table._rows != GAMEOVER:\n",
        "        \n",
        "        if turn == 0:\n",
        "            agent.moves(Table)\n",
        "        else:\n",
        "            opponent.moves(Table)\n",
        "        \n",
        "        turn = 1 - turn\n",
        "        \n",
        "\n",
        "    # Game Over\n",
        "\n",
        "    if turn == 1:\n",
        "        print(f\"Agent WON the match\")\n",
        "    else:\n",
        "        print(f\"Opponent WON the match\")\n",
        "    \n",
        "    return\n",
        "\n"
      ]
    },
    {
      "cell_type": "markdown",
      "metadata": {
        "id": "RslGtcEsKCNn"
      },
      "source": [
        "### Multiple Games"
      ]
    },
    {
      "cell_type": "code",
      "execution_count": null,
      "metadata": {
        "id": "DEyv8y7UKCNn"
      },
      "outputs": [],
      "source": [
        "NUM_MATCHES = 10\n",
        "\n",
        "def evaluate(agent_strategy = 'best') -> float:\n",
        "    \n",
        "\n",
        "    won = 0\n",
        "\n",
        "    for m in range(NUM_MATCHES):\n",
        "        agent = Agent(agent_strategy)\n",
        "        opponent = Opponent()\n",
        "        \n",
        "        nim = Nim(N_ROWS, 5)\n",
        "        \n",
        "        # 0 -> Agent's turn\n",
        "        # 1 -> Opponent's turn\n",
        "        turn = random.randint(0,1)\n",
        "\n",
        "        # Game\n",
        "        while nim._rows != GAMEOVER:\n",
        "            logging.debug(f\"Actual turn: {turn}\")\n",
        "\n",
        "            logging.debug(f\"Table: {nim} and Nim_sum: {nim_sum(nim._rows)}\")\n",
        "            if turn == 0:\n",
        "                agent.moves(nim)\n",
        "                \n",
        "            else:\n",
        "                opponent.moves(nim)\n",
        "\n",
        "            logging.debug(f\"Table: {nim} and Nim_sum: {nim_sum(nim._rows)}\\n\")\n",
        "\n",
        "            \n",
        "            turn = 1 - turn\n",
        "        \n",
        "        # Game Over\n",
        "\n",
        "        if turn == 1:\n",
        "            won +=1\n",
        "        else:\n",
        "            return\n",
        "            \n",
        "        \n",
        "    return won / NUM_MATCHES\n"
      ]
    },
    {
      "cell_type": "code",
      "execution_count": null,
      "metadata": {
        "id": "2HUn_N4RKCNo",
        "outputId": "a877a7d0-4274-4bc8-8c79-ac9b3be915bd"
      },
      "outputs": [
        {
          "name": "stdout",
          "output_type": "stream",
          "text": [
            "Agent Won: 100.0% of the games\n"
          ]
        }
      ],
      "source": [
        "logging.getLogger().setLevel(logging.INFO)\n",
        "\n",
        "print(f\"Agent Won: {evaluate()*100}% of the games\")"
      ]
    }
  ],
  "metadata": {
    "kernelspec": {
      "display_name": "Python 3.8.2 64-bit",
      "language": "python",
      "name": "python3"
    },
    "language_info": {
      "codemirror_mode": {
        "name": "ipython",
        "version": 3
      },
      "file_extension": ".py",
      "mimetype": "text/x-python",
      "name": "python",
      "nbconvert_exporter": "python",
      "pygments_lexer": "ipython3",
      "version": "3.8.2"
    },
    "vscode": {
      "interpreter": {
        "hash": "31f2aee4e71d21fbe5cf8b01ff0e069b9275f58929596ceb00d14d90e3e16cd6"
      }
    },
    "colab": {
      "provenance": [],
      "include_colab_link": true
    }
  },
  "nbformat": 4,
  "nbformat_minor": 0
}
>>>>>>> ddf9d8d16bf29af7165847933f980807353305f4
